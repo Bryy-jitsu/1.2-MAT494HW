{
  "nbformat": 4,
  "nbformat_minor": 5,
  "metadata": {
    "kernelspec": {
      "display_name": "Python 3",
      "language": "python",
      "name": "python3"
    },
    "language_info": {
      "codemirror_mode": {
        "name": "ipython",
        "version": 3
      },
      "file_extension": ".py",
      "mimetype": "text/x-python",
      "name": "python",
      "nbconvert_exporter": "python",
      "pygments_lexer": "ipython3",
      "version": "3.9.1"
    },
    "colab": {
      "name": "Copy of 3.4 Logistic Regression.ipynb",
      "provenance": []
    }
  },
  "cells": [
    {
      "cell_type": "markdown",
      "metadata": {
        "id": "8958f5e1"
      },
      "source": [
        "# 3.4 Logistic Regression\n",
        "\n",
        "Here we provide some examples of logistic regression using sklearn: https://scikit-learn.org/stable/modules/generated/sklearn.linear_model.LogisticRegression.html\n",
        "\n",
        "Copyright:"
      ],
      "id": "8958f5e1"
    },
    {
      "cell_type": "markdown",
      "metadata": {
        "id": "e6f44af0"
      },
      "source": [
        "## 1. Breast cancer dataset "
      ],
      "id": "e6f44af0"
    },
    {
      "cell_type": "markdown",
      "metadata": {
        "id": "N7yMg9S1MehM"
      },
      "source": [
        "Given the python cell below as we can see by the output we are working with the two given points that are shown below on the output of the cell. One point being the x-axis in which looks to be a simple data point from the given set as well as the y-axis which is labeled as the target point from the same set of data."
      ],
      "id": "N7yMg9S1MehM"
    },
    {
      "cell_type": "code",
      "metadata": {
        "id": "f437e0e1",
        "colab": {
          "base_uri": "https://localhost:8080/"
        },
        "outputId": "4d1c7f67-5f0e-4b94-818f-0d6a003da5fd"
      },
      "source": [
        "from sklearn.linear_model import LogisticRegression as LR\n",
        "from sklearn.datasets import load_breast_cancer\n",
        "from sklearn.datasets import load_iris\n",
        "import numpy as np\n",
        "import matplotlib.pyplot as plt\n",
        "from sklearn.model_selection import train_test_split\n",
        "from sklearn.metrics import accuracy_score\n",
        " \n",
        "# breast cancer dataset    \n",
        "data = load_breast_cancer()\n",
        "X = data.data\n",
        "y = data.target\n",
        "X.data.shape"
      ],
      "id": "f437e0e1",
      "execution_count": null,
      "outputs": [
        {
          "output_type": "execute_result",
          "data": {
            "text/plain": [
              "(569, 30)"
            ]
          },
          "metadata": {},
          "execution_count": 6
        }
      ]
    },
    {
      "cell_type": "code",
      "metadata": {
        "id": "a7b20779",
        "colab": {
          "base_uri": "https://localhost:8080/"
        },
        "outputId": "a144156e-6ef2-41b6-ab19-0fecb1a268e1"
      },
      "source": [
        "lrl1 = LR(penalty=\"l1\",solver=\"liblinear\",C=0.5,max_iter=1000)\n",
        "lrl1 = lrl1.fit(X,y)\n",
        "lrl1.coef_\n",
        "\n",
        "(lrl1.coef_ != 0).sum(axis=1)#array([10])  \n",
        "\n",
        "lrl2 = LR(penalty=\"l2\",solver=\"liblinear\",C=0.5,max_iter=1000)\n",
        "lrl2 = lrl2.fit(X,y)\n",
        "lrl2.coef_"
      ],
      "id": "a7b20779",
      "execution_count": null,
      "outputs": [
        {
          "output_type": "execute_result",
          "data": {
            "text/plain": [
              "array([[ 1.61331113e+00,  1.00124605e-01,  4.60084834e-02,\n",
              "        -4.19839432e-03, -9.26228937e-02, -3.00484301e-01,\n",
              "        -4.53250190e-01, -2.19778015e-01, -1.33074668e-01,\n",
              "        -1.92576286e-02,  1.89635811e-02,  8.74998561e-01,\n",
              "         1.32421950e-01, -9.53784314e-02, -9.62972408e-03,\n",
              "        -2.53596204e-02, -5.83890299e-02, -2.67755115e-02,\n",
              "        -2.73846616e-02, -8.05302929e-05,  1.28529688e+00,\n",
              "        -3.00088054e-01, -1.74310770e-01, -2.23545072e-02,\n",
              "        -1.70267493e-01, -8.77272211e-01, -1.15830085e+00,\n",
              "        -4.22526360e-01, -4.12406225e-01, -8.66393364e-02]])"
            ]
          },
          "metadata": {},
          "execution_count": 7
        }
      ]
    },
    {
      "cell_type": "markdown",
      "metadata": {
        "id": "77143219"
      },
      "source": [
        "## 2. Iris dataset"
      ],
      "id": "77143219"
    },
    {
      "cell_type": "markdown",
      "metadata": {
        "id": "zLgM365ATwpc"
      },
      "source": [
        "The cell below as we can see uses the dataset from the imported \"iris\" data that was initialized above. From that we can gather from all the cells below the same \"iris\" data is being utilized to predict certain porbabilities as we can see by the array below. Furthermore utilizing the same dataset we can see the computation of a point in the output of the last cell as the \"score\"."
      ],
      "id": "zLgM365ATwpc"
    },
    {
      "cell_type": "code",
      "metadata": {
        "id": "dbe44d18",
        "colab": {
          "base_uri": "https://localhost:8080/"
        },
        "outputId": "ff0102d2-462e-4196-862b-736f4715e43c"
      },
      "source": [
        "# load the data\n",
        "X, y = load_iris(return_X_y=True)\n",
        "\n",
        "# fit the data to the LR model\n",
        "clf = LR(random_state=0).fit(X, y)\n",
        "\n",
        "# give predictions\n",
        "clf.predict(X[:2,:])"
      ],
      "id": "dbe44d18",
      "execution_count": null,
      "outputs": [
        {
          "output_type": "stream",
          "name": "stderr",
          "text": [
            "/usr/local/lib/python3.7/dist-packages/sklearn/linear_model/_logistic.py:940: ConvergenceWarning: lbfgs failed to converge (status=1):\n",
            "STOP: TOTAL NO. of ITERATIONS REACHED LIMIT.\n",
            "\n",
            "Increase the number of iterations (max_iter) or scale the data as shown in:\n",
            "    https://scikit-learn.org/stable/modules/preprocessing.html\n",
            "Please also refer to the documentation for alternative solver options:\n",
            "    https://scikit-learn.org/stable/modules/linear_model.html#logistic-regression\n",
            "  extra_warning_msg=_LOGISTIC_SOLVER_CONVERGENCE_MSG)\n"
          ]
        },
        {
          "output_type": "execute_result",
          "data": {
            "text/plain": [
              "array([0, 0])"
            ]
          },
          "metadata": {},
          "execution_count": 19
        }
      ]
    },
    {
      "cell_type": "code",
      "metadata": {
        "id": "2bef3b16",
        "colab": {
          "base_uri": "https://localhost:8080/"
        },
        "outputId": "7f316cad-f9a8-435f-8e96-f141dab20242"
      },
      "source": [
        "clf.predict_proba(X[:2, :])"
      ],
      "id": "2bef3b16",
      "execution_count": null,
      "outputs": [
        {
          "output_type": "execute_result",
          "data": {
            "text/plain": [
              "array([[9.81801790e-01, 1.81981959e-02, 1.43556907e-08],\n",
              "       [9.71727348e-01, 2.82726221e-02, 3.00307256e-08]])"
            ]
          },
          "metadata": {},
          "execution_count": 14
        }
      ]
    },
    {
      "cell_type": "code",
      "metadata": {
        "id": "96a37403",
        "colab": {
          "base_uri": "https://localhost:8080/"
        },
        "outputId": "626193d1-155e-48e0-fd8d-aa2830d4f096"
      },
      "source": [
        "clf.score(X, y)"
      ],
      "id": "96a37403",
      "execution_count": null,
      "outputs": [
        {
          "output_type": "execute_result",
          "data": {
            "text/plain": [
              "0.9733333333333334"
            ]
          },
          "metadata": {},
          "execution_count": 15
        }
      ]
    }
  ]
}