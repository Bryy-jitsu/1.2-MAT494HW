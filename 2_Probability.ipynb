{
  "nbformat": 4,
  "nbformat_minor": 5,
  "metadata": {
    "kernelspec": {
      "display_name": "Python 3",
      "language": "python",
      "name": "python3"
    },
    "language_info": {
      "codemirror_mode": {
        "name": "ipython",
        "version": 3
      },
      "file_extension": ".py",
      "mimetype": "text/x-python",
      "name": "python",
      "nbconvert_exporter": "python",
      "pygments_lexer": "ipython3",
      "version": "3.9.1"
    },
    "colab": {
      "name": "2. Probability.ipynb",
      "provenance": []
    }
  },
  "cells": [
    {
      "cell_type": "markdown",
      "metadata": {
        "id": "a93e62b3"
      },
      "source": [
        "# 2. Probability\n",
        "\n",
        "Here we provide some examples of probability using scipy.\n",
        "\n",
        "Copyright:"
      ],
      "id": "a93e62b3"
    },
    {
      "cell_type": "markdown",
      "metadata": {
        "id": "6d770fa4"
      },
      "source": [
        "## 1. Poisson distribution\n",
        "\n",
        "scipy.stats.poisson = <scipy.stats.*_discrete_distns.poisson_gen object*>\n",
        "\n",
        "A Poisson discrete random variable.\n",
        "\n",
        "As an instance of the rv_discrete class, poisson object inherits from it a collection of generic methods (see below for the full list), and completes them with details specific for this particular distribution.\n",
        "\n",
        "https://docs.scipy.org/doc/scipy/reference/generated/scipy.stats.poisson.html"
      ],
      "id": "6d770fa4"
    },
    {
      "cell_type": "code",
      "metadata": {
        "id": "750cd7a2"
      },
      "source": [
        "from scipy.stats import poisson\n",
        "import matplotlib.pyplot as plt\n",
        "import numpy as np\n",
        "\n",
        "# prepare the figure canvas\n",
        "fig, ax = plt.subplots(1, 1)\n",
        "\n",
        "# display all the plots inline\n",
        "%matplotlib inline "
      ],
      "id": "750cd7a2",
      "execution_count": 28,
      "outputs": []
    },
    {
      "cell_type": "code",
      "metadata": {
        "id": "37c00a7a"
      },
      "source": [
        "mu = 0.6\n",
        "mean, var, skew, kurt = poisson.stats(mu, moments='mvsk')"
      ],
      "id": "37c00a7a",
      "execution_count": 29,
      "outputs": []
    },
    {
      "cell_type": "code",
      "metadata": {
        "id": "2f55a264"
      },
      "source": [
        "# display the probability mass function (pmf):\n",
        "x = np.arange(poisson.ppf(0.01, mu), poisson.ppf(0.99, mu))\n",
        "ax.plot(x, poisson.pmf(x, mu), 'bo', ms=8, label='poisson pmf')\n",
        "ax.vlines(x, 0, poisson.pmf(x, mu), colors='b', lw=5, alpha=0.5)\n",
        "\n",
        "# display all the plots inline\n",
        "%matplotlib inline "
      ],
      "id": "2f55a264",
      "execution_count": 30,
      "outputs": []
    },
    {
      "cell_type": "code",
      "metadata": {
        "id": "39308cec"
      },
      "source": [
        "# Alternatively, the distribution object can be called (as a function) \n",
        "# to fix the shape and location. \n",
        "# This returns a “frozen” RV object holding the given parameters fixed.\n",
        "\n",
        "# Freeze the distribution and display the frozen pmf:\n",
        "rv = poisson(mu)\n",
        "ax.vlines(x, 0, rv.pmf(x), colors='k', linestyles='-', lw=1, label='frozen pmf')\n",
        "ax.legend(loc='best', frameon=False)\n",
        "\n",
        "# display all the plots inline\n",
        "%matplotlib inline \n",
        "\n",
        "plt.show()"
      ],
      "id": "39308cec",
      "execution_count": 31,
      "outputs": []
    },
    {
      "cell_type": "code",
      "metadata": {
        "id": "0ca7bc2a",
        "outputId": "50c77f9f-610f-4d1a-b694-d95ceaada540",
        "colab": {
          "base_uri": "https://localhost:8080/"
        }
      },
      "source": [
        "# Check accuracy of cdf and ppf:\n",
        "prob = poisson.cdf(x, mu)\n",
        "np.allclose(x, poisson.ppf(prob, mu))"
      ],
      "id": "0ca7bc2a",
      "execution_count": 32,
      "outputs": [
        {
          "output_type": "execute_result",
          "data": {
            "text/plain": [
              "True"
            ]
          },
          "metadata": {},
          "execution_count": 32
        }
      ]
    },
    {
      "cell_type": "code",
      "metadata": {
        "id": "30d7857b"
      },
      "source": [
        "# Generate random numbers:\n",
        "r = poisson.rvs(mu, size=1000)"
      ],
      "id": "30d7857b",
      "execution_count": 33,
      "outputs": []
    },
    {
      "cell_type": "markdown",
      "metadata": {
        "id": "d92a568b"
      },
      "source": [
        "## 2. Binomial distribution\n",
        "\n",
        "scipy.stats.binom = <scipy.stats.*_discrete_distns.binom_gen object*>\n",
        "\n",
        "A binomial discrete random variable.\n",
        "\n",
        "As an instance of the rv_discrete class, binom object inherits from it a collection of generic methods (see below for the full list), and completes them with details specific for this particular distribution.\n",
        "\n",
        "https://docs.scipy.org/doc/scipy/reference/generated/scipy.stats.binom.html"
      ],
      "id": "d92a568b"
    },
    {
      "cell_type": "markdown",
      "metadata": {
        "id": "Uxp6ZBZz-mJh"
      },
      "source": [
        "The Python code below will be what the binomial function will mainly consist of. As we can see not only are we importing the binomial in order to initialize snd utilize it but we are also giving it it's proper parameteres. "
      ],
      "id": "Uxp6ZBZz-mJh"
    },
    {
      "cell_type": "code",
      "metadata": {
        "id": "3ce3a1e7",
        "outputId": "5b036fe0-136c-45e6-b512-95807f751fd6",
        "colab": {
          "base_uri": "https://localhost:8080/"
        }
      },
      "source": [
        "from scipy.stats import binom\n",
        "import matplotlib.pyplot as plt\n",
        "n, p = 5, 0.4\n",
        "mean, var, skew, kurt = binom.stats(n, p, moments='mvsk')\n",
        "\n",
        "# display the probability mass function (pmf):\n",
        "x = np.arange(binom.ppf(0.01, n, p), binom.ppf(0.99, n, p))\n",
        "ax.plot(x, binom.pmf(x, n, p), 'bo', ms=8, label='binom pmf')\n",
        "ax.vlines(x, 0, binom.pmf(x, n, p), colors='b', lw=5, alpha=0.5)"
      ],
      "id": "3ce3a1e7",
      "execution_count": 39,
      "outputs": [
        {
          "output_type": "execute_result",
          "data": {
            "text/plain": [
              "<matplotlib.collections.LineCollection at 0x7fe57d109c10>"
            ]
          },
          "metadata": {},
          "execution_count": 39
        }
      ]
    },
    {
      "cell_type": "markdown",
      "metadata": {
        "id": "tLSZThkQ_keG"
      },
      "source": [
        "The Code cell below pretty simple, this is where the parameters will go through and be displayed in this example."
      ],
      "id": "tLSZThkQ_keG"
    },
    {
      "cell_type": "code",
      "metadata": {
        "id": "1df0f55c"
      },
      "source": [
        "# Freeze the distribution and display the frozen pmf:\n",
        "rv = binom(n, p)\n",
        "ax.vlines(x, 0, rv.pmf(x), colors='k', linestyles='-', lw=1, label='frozen pmf')\n",
        "ax.legend(loc='best', frameon=False)\n",
        "plt.show()"
      ],
      "id": "1df0f55c",
      "execution_count": 44,
      "outputs": []
    },
    {
      "cell_type": "markdown",
      "metadata": {
        "id": "WJjZsRhaXdeO"
      },
      "source": [
        "The python code snipet below is where the results of the binomal function is ran through and checked one more time for accurazy, as we can see the code snipet below is of type \"bool\" which if the binomial function is not accurate it will print out \"false\" in this case however since the parameters of the binomial are accurate \"True\" was printed out instead."
      ],
      "id": "WJjZsRhaXdeO"
    },
    {
      "cell_type": "code",
      "metadata": {
        "id": "1d8ba234",
        "outputId": "8fb90e03-3573-40f0-bc6d-1daaff42b723",
        "colab": {
          "base_uri": "https://localhost:8080/"
        }
      },
      "source": [
        "# Check accuracy of cdf and ppf:\n",
        "prob = binom.cdf(x, n, p)\n",
        "np.allclose(x, binom.ppf(prob, n, p))"
      ],
      "id": "1d8ba234",
      "execution_count": 45,
      "outputs": [
        {
          "output_type": "execute_result",
          "data": {
            "text/plain": [
              "True"
            ]
          },
          "metadata": {},
          "execution_count": 45
        }
      ]
    },
    {
      "cell_type": "markdown",
      "metadata": {
        "id": "Qi3bgVUiYdv_"
      },
      "source": [
        "To conclude this python code the snipet python cell below is a rather simpler one, what it does is it generates random integers for the binomial function to run."
      ],
      "id": "Qi3bgVUiYdv_"
    },
    {
      "cell_type": "code",
      "metadata": {
        "id": "273da15c"
      },
      "source": [
        "# Generate random numbers:\n",
        "r = binom.rvs(n, p, size=1000)"
      ],
      "id": "273da15c",
      "execution_count": 42,
      "outputs": []
    }
  ]
}