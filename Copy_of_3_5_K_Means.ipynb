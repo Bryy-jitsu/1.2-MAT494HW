{
  "nbformat": 4,
  "nbformat_minor": 5,
  "metadata": {
    "kernelspec": {
      "display_name": "Python 3",
      "language": "python",
      "name": "python3"
    },
    "language_info": {
      "codemirror_mode": {
        "name": "ipython",
        "version": 3
      },
      "file_extension": ".py",
      "mimetype": "text/x-python",
      "name": "python",
      "nbconvert_exporter": "python",
      "pygments_lexer": "ipython3",
      "version": "3.9.1"
    },
    "colab": {
      "name": "Copy of 3.5 K-Means.ipynb",
      "provenance": []
    }
  },
  "cells": [
    {
      "cell_type": "markdown",
      "metadata": {
        "id": "34eafbe7"
      },
      "source": [
        "# 3.5 K-means\n",
        "\n",
        "Here we provide some examples of K-means using sklearn: https://scikit-learn.org/stable/modules/generated/sklearn.cluster.KMeans.html\n",
        "\n",
        "Copyright:"
      ],
      "id": "34eafbe7"
    },
    {
      "cell_type": "code",
      "metadata": {
        "id": "fe900d73"
      },
      "source": [
        "# import libraries\n",
        "from numpy import unique\n",
        "from numpy import where\n",
        "from sklearn.datasets import make_classification\n",
        "from sklearn.cluster import KMeans\n",
        "from sklearn.cluster import MiniBatchKMeans\n",
        "import matplotlib.pyplot as plt"
      ],
      "id": "fe900d73",
      "execution_count": null,
      "outputs": []
    },
    {
      "cell_type": "markdown",
      "metadata": {
        "id": "00602061"
      },
      "source": [
        "## 1. K-Means"
      ],
      "id": "00602061"
    },
    {
      "cell_type": "markdown",
      "metadata": {
        "id": "xG-MnI39YP5g"
      },
      "source": [
        "In the cell below we are utilising the above data in the code below through its importation. As we can cleally see in the graph below the data is being plotted below. "
      ],
      "id": "xG-MnI39YP5g"
    },
    {
      "cell_type": "code",
      "metadata": {
        "id": "4b585e51",
        "colab": {
          "base_uri": "https://localhost:8080/",
          "height": 265
        },
        "outputId": "2b0121b7-c942-4e38-f017-6b2c5f238aef"
      },
      "source": [
        "# Load the data\n",
        "# \"_\" hold the position of \"y\" but we are not interested in y here,\n",
        "# so we can use \"_\" instead of creating a variable y.\n",
        "X, _ = make_classification(n_samples=1000, n_features=2, \n",
        "                           n_informative=2, n_redundant=0, \n",
        "                           n_clusters_per_class=1, random_state=4)\n",
        "\n",
        "# Using the k-means method\n",
        "model = KMeans(n_clusters=2)\n",
        "model.fit(X)\n",
        "\n",
        "# Assign a cluster to each example.\n",
        "yhat = model.predict(X)\n",
        "\n",
        "# Retrieve a unique cluster.\n",
        "clusters = unique(yhat)\n",
        "\n",
        "# Create a scatter plot for the samples of each cluster.\n",
        "for cluster in clusters:\n",
        "    row_ix = where(yhat == cluster)\n",
        "    plt.scatter(X[row_ix, 0], X[row_ix, 1])\n",
        "    \n",
        "# Draw the scatter plot.\n",
        "plt.show()"
      ],
      "id": "4b585e51",
      "execution_count": null,
      "outputs": [
        {
          "output_type": "display_data",
          "data": {
            "image/png": "[encoded data removed]",
            "text/plain": [
              "<Figure size 432x288 with 1 Axes>"
            ]
          },
          "metadata": {
            "needs_background": "light"
          }
        }
      ]
    },
    {
      "cell_type": "markdown",
      "metadata": {
        "id": "cc4791f1"
      },
      "source": [
        "## 2. Mini-Batch K-Means "
      ],
      "id": "cc4791f1"
    },
    {
      "cell_type": "markdown",
      "metadata": {
        "id": "QmX_LbLMb2tk"
      },
      "source": [
        "The plotted data below demonstartes a similar graph plotted like the one above. Within this data the same imported datasets are being utilized from the initialized data above. "
      ],
      "id": "QmX_LbLMb2tk"
    },
    {
      "cell_type": "code",
      "metadata": {
        "id": "c662ab65",
        "colab": {
          "base_uri": "https://localhost:8080/",
          "height": 265
        },
        "outputId": "97a171fa-d857-4715-edbf-b6f42ecaf0bf"
      },
      "source": [
        "# Data sources\n",
        "X, _ = make_classification(n_samples=1000, n_features=2, \n",
        "                           n_informative=2, n_redundant=0, \n",
        "                           n_clusters_per_class=1, random_state=4)\n",
        "\n",
        "# Using the mini-batch k-means method\n",
        "model = MiniBatchKMeans(n_clusters=2)\n",
        "model.fit(X)\n",
        "\n",
        "# Assign a cluster to each example.\n",
        "yhat = model.predict(X)\n",
        "\n",
        "# Retrieve a unique cluster.\n",
        "clusters = unique(yhat)\n",
        "\n",
        "# Create a scatter plot for the samples of each cluster.\n",
        "for cluster in clusters:\n",
        "    row_ix = where(yhat == cluster)\n",
        "    plt.scatter(X[row_ix, 0], X[row_ix, 1])\n",
        "    \n",
        "# Draw the scatter plot.\n",
        "plt.show()"
      ],
      "id": "c662ab65",
      "execution_count": null,
      "outputs": [
        {
          "output_type": "display_data",
          "data": {
            "image/png": "[encoded data removed]",
            "text/plain": [
              "<Figure size 432x288 with 1 Axes>"
            ]
          },
          "metadata": {
            "needs_background": "light"
          }
        }
      ]
    }
  ]
}