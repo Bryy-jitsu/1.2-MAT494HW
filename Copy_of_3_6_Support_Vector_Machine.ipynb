{
  "nbformat": 4,
  "nbformat_minor": 0,
  "metadata": {
    "kernelspec": {
      "display_name": "Python 3",
      "language": "python",
      "name": "python3"
    },
    "language_info": {
      "codemirror_mode": {
        "name": "ipython",
        "version": 3
      },
      "file_extension": ".py",
      "mimetype": "text/x-python",
      "name": "python",
      "nbconvert_exporter": "python",
      "pygments_lexer": "ipython3",
      "version": "3.9.1"
    },
    "colab": {
      "name": "Copy of 3.6 Support Vector Machine.ipynb",
      "provenance": []
    },
    "widgets": {
      "application/vnd.jupyter.widget-state+json": {
        "e4cec328b3a54da28b2fa1b223bc99a8": {
          "model_module": "@jupyter-widgets/controls",
          "model_name": "VBoxModel",
          "model_module_version": "1.5.0",
          "state": {
            "_view_name": "VBoxView",
            "_dom_classes": [
              "widget-interact"
            ],
            "_model_name": "VBoxModel",
            "_view_module": "@jupyter-widgets/controls",
            "_model_module_version": "1.5.0",
            "_view_count": null,
            "_view_module_version": "1.5.0",
            "box_style": "",
            "layout": "IPY_MODEL_582203cb218742d8afec58e696c2a276",
            "_model_module": "@jupyter-widgets/controls",
            "children": [
              "IPY_MODEL_6c4f1e59ae3c47599560a1966907b38b",
              "IPY_MODEL_91ee0c5eca66412d9c32d98f4ad6f29a",
              "IPY_MODEL_b6cced0508b2448f871080ca69dc16ce",
              "IPY_MODEL_016804dab882420095099cbbe2e52a48",
              "IPY_MODEL_aedf7a77ceab4bbc824e53a3b8c6ca99"
            ]
          }
        },
        "582203cb218742d8afec58e696c2a276": {
          "model_module": "@jupyter-widgets/base",
          "model_name": "LayoutModel",
          "model_module_version": "1.2.0",
          "state": {
            "_view_name": "LayoutView",
            "grid_template_rows": null,
            "right": null,
            "justify_content": null,
            "_view_module": "@jupyter-widgets/base",
            "overflow": null,
            "_model_module_version": "1.2.0",
            "_view_count": null,
            "flex_flow": null,
            "width": null,
            "min_width": null,
            "border": null,
            "align_items": null,
            "bottom": null,
            "_model_module": "@jupyter-widgets/base",
            "top": null,
            "grid_column": null,
            "overflow_y": null,
            "overflow_x": null,
            "grid_auto_flow": null,
            "grid_area": null,
            "grid_template_columns": null,
            "flex": null,
            "_model_name": "LayoutModel",
            "justify_items": null,
            "grid_row": null,
            "max_height": null,
            "align_content": null,
            "visibility": null,
            "align_self": null,
            "height": null,
            "min_height": null,
            "padding": null,
            "grid_auto_rows": null,
            "grid_gap": null,
            "max_width": null,
            "order": null,
            "_view_module_version": "1.2.0",
            "grid_template_areas": null,
            "object_position": null,
            "object_fit": null,
            "grid_auto_columns": null,
            "margin": null,
            "display": null,
            "left": null
          }
        },
        "6c4f1e59ae3c47599560a1966907b38b": {
          "model_module": "@jupyter-widgets/controls",
          "model_name": "FloatLogSliderModel",
          "model_module_version": "1.5.0",
          "state": {
            "_view_name": "FloatLogSliderView",
            "orientation": "horizontal",
            "_view_module": "@jupyter-widgets/controls",
            "_model_module_version": "1.5.0",
            "_view_count": null,
            "disabled": false,
            "readout_format": ".3g",
            "_model_module": "@jupyter-widgets/controls",
            "style": "IPY_MODEL_bfa0912b2d5f44a9aa80fd098fde84a9",
            "layout": "IPY_MODEL_e7fa0cd330114205a8ddd10ebb45e069",
            "min": -4,
            "continuous_update": false,
            "description_tooltip": null,
            "_dom_classes": [],
            "description": "C",
            "_model_name": "FloatLogSliderModel",
            "max": 4,
            "readout": true,
            "step": 0.5,
            "base": 10,
            "value": 10,
            "_view_module_version": "1.5.0"
          }
        },
        "91ee0c5eca66412d9c32d98f4ad6f29a": {
          "model_module": "@jupyter-widgets/controls",
          "model_name": "DropdownModel",
          "model_module_version": "1.5.0",
          "state": {
            "_options_labels": [
              "linear",
              "poly1",
              "poly2",
              "poly3",
              "poly4",
              "poly5",
              "poly6",
              "poly7",
              "poly8",
              "rbf"
            ],
            "_view_name": "DropdownView",
            "style": "IPY_MODEL_657b301e565e4beab5cad025b81ea430",
            "_dom_classes": [],
            "description": "kernel",
            "_model_name": "DropdownModel",
            "index": 0,
            "_view_module": "@jupyter-widgets/controls",
            "_model_module_version": "1.5.0",
            "_view_count": null,
            "disabled": false,
            "_view_module_version": "1.5.0",
            "description_tooltip": null,
            "_model_module": "@jupyter-widgets/controls",
            "layout": "IPY_MODEL_e115e89239bf46e792d8366727bf154a"
          }
        },
        "b6cced0508b2448f871080ca69dc16ce": {
          "model_module": "@jupyter-widgets/controls",
          "model_name": "FloatSliderModel",
          "model_module_version": "1.5.0",
          "state": {
            "_view_name": "FloatSliderView",
            "style": "IPY_MODEL_1a87fe527df94024aab7a427f314e0f8",
            "_dom_classes": [],
            "description": "expand:",
            "step": 0.1,
            "_model_name": "FloatSliderModel",
            "orientation": "horizontal",
            "max": 10,
            "_view_module": "@jupyter-widgets/controls",
            "_model_module_version": "1.5.0",
            "value": 3.9,
            "_view_count": null,
            "disabled": false,
            "_view_module_version": "1.5.0",
            "min": 0,
            "continuous_update": false,
            "readout_format": ".2f",
            "description_tooltip": null,
            "readout": true,
            "_model_module": "@jupyter-widgets/controls",
            "layout": "IPY_MODEL_4e23bfcc92d642b78d143764192e494e"
          }
        },
        "016804dab882420095099cbbe2e52a48": {
          "model_module": "@jupyter-widgets/controls",
          "model_name": "FloatSliderModel",
          "model_module_version": "1.5.0",
          "state": {
            "_view_name": "FloatSliderView",
            "style": "IPY_MODEL_8ab6b8d5b95d4e75920df545667beea6",
            "_dom_classes": [],
            "description": "contour intensity:",
            "step": 0.1,
            "_model_name": "FloatSliderModel",
            "orientation": "horizontal",
            "max": 0.9,
            "_view_module": "@jupyter-widgets/controls",
            "_model_module_version": "1.5.0",
            "value": 0.5,
            "_view_count": null,
            "disabled": false,
            "_view_module_version": "1.5.0",
            "min": 0.1,
            "continuous_update": false,
            "readout_format": ".2f",
            "description_tooltip": null,
            "readout": true,
            "_model_module": "@jupyter-widgets/controls",
            "layout": "IPY_MODEL_c7d71ad5e7604219b9672a54115a793f"
          }
        },
        "aedf7a77ceab4bbc824e53a3b8c6ca99": {
          "model_module": "@jupyter-widgets/output",
          "model_name": "OutputModel",
          "model_module_version": "1.0.0",
          "state": {
            "_view_name": "OutputView",
            "msg_id": "",
            "_dom_classes": [],
            "_model_name": "OutputModel",
            "outputs": [
              {
                "output_type": "display_data",
                "data": {
                  "image/png": "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\n",
                  "text/plain": "<Figure size 432x288 with 1 Axes>"
                },
                "metadata": {
                  "needs_background": "light"
                }
              }
            ],
            "_view_module": "@jupyter-widgets/output",
            "_model_module_version": "1.0.0",
            "_view_count": null,
            "_view_module_version": "1.0.0",
            "layout": "IPY_MODEL_c76afb88657c47f6bc9e2e19b487af4e",
            "_model_module": "@jupyter-widgets/output"
          }
        },
        "bfa0912b2d5f44a9aa80fd098fde84a9": {
          "model_module": "@jupyter-widgets/controls",
          "model_name": "SliderStyleModel",
          "model_module_version": "1.5.0",
          "state": {
            "_view_name": "StyleView",
            "handle_color": null,
            "_model_name": "SliderStyleModel",
            "description_width": "",
            "_view_module": "@jupyter-widgets/base",
            "_model_module_version": "1.5.0",
            "_view_count": null,
            "_view_module_version": "1.2.0",
            "_model_module": "@jupyter-widgets/controls"
          }
        },
        "e7fa0cd330114205a8ddd10ebb45e069": {
          "model_module": "@jupyter-widgets/base",
          "model_name": "LayoutModel",
          "model_module_version": "1.2.0",
          "state": {
            "_view_name": "LayoutView",
            "grid_template_rows": null,
            "right": null,
            "justify_content": null,
            "_view_module": "@jupyter-widgets/base",
            "overflow": null,
            "_model_module_version": "1.2.0",
            "_view_count": null,
            "flex_flow": null,
            "width": null,
            "min_width": null,
            "border": null,
            "align_items": null,
            "bottom": null,
            "_model_module": "@jupyter-widgets/base",
            "top": null,
            "grid_column": null,
            "overflow_y": null,
            "overflow_x": null,
            "grid_auto_flow": null,
            "grid_area": null,
            "grid_template_columns": null,
            "flex": null,
            "_model_name": "LayoutModel",
            "justify_items": null,
            "grid_row": null,
            "max_height": null,
            "align_content": null,
            "visibility": null,
            "align_self": null,
            "height": null,
            "min_height": null,
            "padding": null,
            "grid_auto_rows": null,
            "grid_gap": null,
            "max_width": null,
            "order": null,
            "_view_module_version": "1.2.0",
            "grid_template_areas": null,
            "object_position": null,
            "object_fit": null,
            "grid_auto_columns": null,
            "margin": null,
            "display": null,
            "left": null
          }
        },
        "657b301e565e4beab5cad025b81ea430": {
          "model_module": "@jupyter-widgets/controls",
          "model_name": "DescriptionStyleModel",
          "model_module_version": "1.5.0",
          "state": {
            "_view_name": "StyleView",
            "_model_name": "DescriptionStyleModel",
            "description_width": "",
            "_view_module": "@jupyter-widgets/base",
            "_model_module_version": "1.5.0",
            "_view_count": null,
            "_view_module_version": "1.2.0",
            "_model_module": "@jupyter-widgets/controls"
          }
        },
        "e115e89239bf46e792d8366727bf154a": {
          "model_module": "@jupyter-widgets/base",
          "model_name": "LayoutModel",
          "model_module_version": "1.2.0",
          "state": {
            "_view_name": "LayoutView",
            "grid_template_rows": null,
            "right": null,
            "justify_content": null,
            "_view_module": "@jupyter-widgets/base",
            "overflow": null,
            "_model_module_version": "1.2.0",
            "_view_count": null,
            "flex_flow": null,
            "width": null,
            "min_width": null,
            "border": null,
            "align_items": null,
            "bottom": null,
            "_model_module": "@jupyter-widgets/base",
            "top": null,
            "grid_column": null,
            "overflow_y": null,
            "overflow_x": null,
            "grid_auto_flow": null,
            "grid_area": null,
            "grid_template_columns": null,
            "flex": null,
            "_model_name": "LayoutModel",
            "justify_items": null,
            "grid_row": null,
            "max_height": null,
            "align_content": null,
            "visibility": null,
            "align_self": null,
            "height": null,
            "min_height": null,
            "padding": null,
            "grid_auto_rows": null,
            "grid_gap": null,
            "max_width": null,
            "order": null,
            "_view_module_version": "1.2.0",
            "grid_template_areas": null,
            "object_position": null,
            "object_fit": null,
            "grid_auto_columns": null,
            "margin": null,
            "display": null,
            "left": null
          }
        },
        "1a87fe527df94024aab7a427f314e0f8": {
          "model_module": "@jupyter-widgets/controls",
          "model_name": "SliderStyleModel",
          "model_module_version": "1.5.0",
          "state": {
            "_view_name": "StyleView",
            "handle_color": null,
            "_model_name": "SliderStyleModel",
            "description_width": "",
            "_view_module": "@jupyter-widgets/base",
            "_model_module_version": "1.5.0",
            "_view_count": null,
            "_view_module_version": "1.2.0",
            "_model_module": "@jupyter-widgets/controls"
          }
        },
        "4e23bfcc92d642b78d143764192e494e": {
          "model_module": "@jupyter-widgets/base",
          "model_name": "LayoutModel",
          "model_module_version": "1.2.0",
          "state": {
            "_view_name": "LayoutView",
            "grid_template_rows": null,
            "right": null,
            "justify_content": null,
            "_view_module": "@jupyter-widgets/base",
            "overflow": null,
            "_model_module_version": "1.2.0",
            "_view_count": null,
            "flex_flow": null,
            "width": null,
            "min_width": null,
            "border": null,
            "align_items": null,
            "bottom": null,
            "_model_module": "@jupyter-widgets/base",
            "top": null,
            "grid_column": null,
            "overflow_y": null,
            "overflow_x": null,
            "grid_auto_flow": null,
            "grid_area": null,
            "grid_template_columns": null,
            "flex": null,
            "_model_name": "LayoutModel",
            "justify_items": null,
            "grid_row": null,
            "max_height": null,
            "align_content": null,
            "visibility": null,
            "align_self": null,
            "height": null,
            "min_height": null,
            "padding": null,
            "grid_auto_rows": null,
            "grid_gap": null,
            "max_width": null,
            "order": null,
            "_view_module_version": "1.2.0",
            "grid_template_areas": null,
            "object_position": null,
            "object_fit": null,
            "grid_auto_columns": null,
            "margin": null,
            "display": null,
            "left": null
          }
        },
        "8ab6b8d5b95d4e75920df545667beea6": {
          "model_module": "@jupyter-widgets/controls",
          "model_name": "SliderStyleModel",
          "model_module_version": "1.5.0",
          "state": {
            "_view_name": "StyleView",
            "handle_color": null,
            "_model_name": "SliderStyleModel",
            "description_width": "",
            "_view_module": "@jupyter-widgets/base",
            "_model_module_version": "1.5.0",
            "_view_count": null,
            "_view_module_version": "1.2.0",
            "_model_module": "@jupyter-widgets/controls"
          }
        },
        "c7d71ad5e7604219b9672a54115a793f": {
          "model_module": "@jupyter-widgets/base",
          "model_name": "LayoutModel",
          "model_module_version": "1.2.0",
          "state": {
            "_view_name": "LayoutView",
            "grid_template_rows": null,
            "right": null,
            "justify_content": null,
            "_view_module": "@jupyter-widgets/base",
            "overflow": null,
            "_model_module_version": "1.2.0",
            "_view_count": null,
            "flex_flow": null,
            "width": null,
            "min_width": null,
            "border": null,
            "align_items": null,
            "bottom": null,
            "_model_module": "@jupyter-widgets/base",
            "top": null,
            "grid_column": null,
            "overflow_y": null,
            "overflow_x": null,
            "grid_auto_flow": null,
            "grid_area": null,
            "grid_template_columns": null,
            "flex": null,
            "_model_name": "LayoutModel",
            "justify_items": null,
            "grid_row": null,
            "max_height": null,
            "align_content": null,
            "visibility": null,
            "align_self": null,
            "height": null,
            "min_height": null,
            "padding": null,
            "grid_auto_rows": null,
            "grid_gap": null,
            "max_width": null,
            "order": null,
            "_view_module_version": "1.2.0",
            "grid_template_areas": null,
            "object_position": null,
            "object_fit": null,
            "grid_auto_columns": null,
            "margin": null,
            "display": null,
            "left": null
          }
        },
        "c76afb88657c47f6bc9e2e19b487af4e": {
          "model_module": "@jupyter-widgets/base",
          "model_name": "LayoutModel",
          "model_module_version": "1.2.0",
          "state": {
            "_view_name": "LayoutView",
            "grid_template_rows": null,
            "right": null,
            "justify_content": null,
            "_view_module": "@jupyter-widgets/base",
            "overflow": null,
            "_model_module_version": "1.2.0",
            "_view_count": null,
            "flex_flow": null,
            "width": null,
            "min_width": null,
            "border": null,
            "align_items": null,
            "bottom": null,
            "_model_module": "@jupyter-widgets/base",
            "top": null,
            "grid_column": null,
            "overflow_y": null,
            "overflow_x": null,
            "grid_auto_flow": null,
            "grid_area": null,
            "grid_template_columns": null,
            "flex": null,
            "_model_name": "LayoutModel",
            "justify_items": null,
            "grid_row": null,
            "max_height": null,
            "align_content": null,
            "visibility": null,
            "align_self": null,
            "height": null,
            "min_height": null,
            "padding": null,
            "grid_auto_rows": null,
            "grid_gap": null,
            "max_width": null,
            "order": null,
            "_view_module_version": "1.2.0",
            "grid_template_areas": null,
            "object_position": null,
            "object_fit": null,
            "grid_auto_columns": null,
            "margin": null,
            "display": null,
            "left": null
          }
        }
      }
    }
  },
  "cells": [
    {
      "cell_type": "markdown",
      "metadata": {
        "id": "yRzNrBiFB1Oe"
      },
      "source": [
        "# Chapter 3.6 Support Vector Machine - Examples\n",
        "\n",
        "Here, we provide three example of SVM, and introduce the **sci-ki learn** package: https://scikit-learn.org/stable/modules/svm.html\n",
        "\n",
        "Copyright: "
      ]
    },
    {
      "cell_type": "markdown",
      "metadata": {
        "id": "9KO6WTGkLaWJ"
      },
      "source": [
        "In the cell below we have imported and initialized the datasets in which we will bu utilizing throughout the entire python cells below."
      ]
    },
    {
      "cell_type": "code",
      "metadata": {
        "id": "BUHfP0oSB1Oh"
      },
      "source": [
        "# For compatibility with Python 2\n",
        "from __future__ import print_function\n",
        "\n",
        "# To load datasets\n",
        "from sklearn import datasets\n",
        "from sklearn.datasets import make_blobs\n",
        "\n",
        "# To import the classifier (SVM classifier)\n",
        "from sklearn.svm import SVC\n",
        "from sklearn.svm import LinearSVC\n",
        "\n",
        "# To measure accuracy\n",
        "from sklearn import metrics\n",
        "from sklearn.metrics import confusion_matrix\n",
        "\n",
        "from sklearn.model_selection import train_test_split\n",
        "\n",
        "# To support plots\n",
        "from ipywidgets import interact\n",
        "import ipywidgets as widgets\n",
        "import matplotlib as mpl\n",
        "import matplotlib.pyplot as plt\n",
        "from matplotlib.colors import ListedColormap\n",
        "\n",
        "# To increase quality of figures\n",
        "plt.rcParams[\"figure.figsize\"] = (20, 10)\n",
        "\n",
        "# To display all the plots inline\n",
        "%matplotlib inline \n",
        "\n",
        "# Basics\n",
        "import numpy as np\n",
        "import math\n",
        "import cvxopt\n",
        "\n",
        "# To import the scalers\n",
        "from sklearn.preprocessing import MinMaxScaler\n",
        "\n",
        "class DummyScaler:\n",
        "    def fit(self, data):\n",
        "        pass\n",
        "    def transform(self, data):\n",
        "        return data\n",
        "\n",
        "def create_scaler_minmax():\n",
        "    return MinMaxScaler()"
      ],
      "execution_count": null,
      "outputs": []
    },
    {
      "cell_type": "markdown",
      "metadata": {
        "id": "apLQ3yMvB1Ol"
      },
      "source": [
        "## 1. A Simple Walk-through of the Whole Pipeline"
      ]
    },
    {
      "cell_type": "markdown",
      "metadata": {
        "id": "LPyPKocbB1Om"
      },
      "source": [
        "Here we will build a SVM without using the sklearn SVC function, to show the math. Then we will also show the performance of the sklearn SVC function, to compare the results."
      ]
    },
    {
      "cell_type": "markdown",
      "metadata": {
        "id": "sok8W175B1On"
      },
      "source": [
        "## 1.1 Build the entire math model step by step\n",
        "\n",
        "First we define our SVM class, which contains functions that we will need later. \n",
        "\n",
        "Instead of using gradient descent to find the best fitting line as in the case of Linear Regression, we can directly solve for w and b using the Lagrangian.\n",
        "\n",
        "To learn more about python classes and OOP: http://hplgit.github.io/primer.html/doc/pub/class/._class-readable001.html"
      ]
    },
    {
      "cell_type": "markdown",
      "metadata": {
        "id": "3w4oGvCYK34p"
      },
      "source": [
        "With the initilaization and utilization of the datasets above as we can see in the cell below we as mentioned above start defining the SVM class, in it contianing the fuctions that we will use later. As we continue to look at the following cells we see the following scatter plot graphed and following that we see the following taining data model in the output. "
      ]
    },
    {
      "cell_type": "code",
      "metadata": {
        "id": "pFAgE97YB1On"
      },
      "source": [
        "# be careful about the indentation in a long code block\n",
        "class SVM(object):\n",
        "  def fit(self, X, y):\n",
        "    n_samples, n_features = X.shape\n",
        "\n",
        "    K = np.zeros((n_samples, n_samples))\n",
        "    for i in range(n_samples):\n",
        "      for j in range(n_samples):\n",
        "        K[i,j] = np.dot(X[i], X[j])\n",
        "   \n",
        "    P = cvxopt.matrix(np.outer(y, y) * K)  # P = X^T X \n",
        "    q = cvxopt.matrix(np.ones(n_samples) * -1) # q = -1 (1xN)\n",
        "    A = cvxopt.matrix(y, (1, n_samples)) # A = y^T\n",
        "    b = cvxopt.matrix(0.0) # b = 0 \n",
        "    G = cvxopt.matrix(np.diag(np.ones(n_samples) * -1)) # -1 (NxN)\n",
        "    h = cvxopt.matrix(np.zeros(n_samples)) # 0 (1xN)\n",
        "    solution = cvxopt.solvers.qp(P, q, G, h, A, b)\n",
        "\n",
        "    a = np.ravel(solution['x']) # Lagrange multipliers\n",
        "    # Lagrange have non zero lagrange multipliers\n",
        "    sv = a > 1e-5\n",
        "    ind = np.arange(len(a))[sv]\n",
        "    self.a = a[sv]\n",
        "    self.sv = X[sv]\n",
        "    self.sv_y = y[sv]\n",
        "    self.b = 0  # Intercept\n",
        "    for n in range(len(self.a)):\n",
        "      self.b += self.sv_y[n]\n",
        "      self.b -= np.sum(self.a * self.sv_y * K[ind[n], sv])\n",
        "      self.b /= len(self.a)\n",
        "\n",
        "    # Weights\n",
        "    self.w = np.zeros(n_features)\n",
        "    for n in range(len(self.a)):\n",
        "      self.w += self.a[n] * self.sv_y[n] * self.sv[n]\n",
        "\n",
        "  def project(self, X):\n",
        "    return np.dot(X, self.w) + self.b\n",
        "\n",
        "  def predict(self, X):\n",
        "    return np.sign(self.project(X))"
      ],
      "execution_count": null,
      "outputs": []
    },
    {
      "cell_type": "markdown",
      "metadata": {
        "id": "GOQQBsKUB1Oo"
      },
      "source": [
        "Next we generate some linearly separable data. \n",
        "\n",
        "We label the negative samples as -1 instead of 0. The package cvxopt expects the data to be in a specific format which is why we take an intermediate step."
      ]
    },
    {
      "cell_type": "code",
      "metadata": {
        "colab": {
          "base_uri": "https://localhost:8080/",
          "height": 282
        },
        "id": "ehmeXo5RB1Oo",
        "outputId": "d9724664-05d1-4e08-8785-9ca051dc9006"
      },
      "source": [
        "X, y = make_blobs(n_samples = 250, centers = 2,\n",
        "                  random_state = 0, cluster_std = 0.60)\n",
        "y[y == 0] = -1\n",
        "tmp = np.ones(len(X))\n",
        "y = tmp * y\n",
        "\n",
        "# plot the data we just generated\n",
        "plt.scatter(X[:, 0], X[:, 1], c = y, cmap = 'winter')"
      ],
      "execution_count": null,
      "outputs": [
        {
          "output_type": "execute_result",
          "data": {
            "text/plain": [
              "<matplotlib.collections.PathCollection at 0x7f0c7a2e0150>"
            ]
          },
          "metadata": {},
          "execution_count": 3
        },
        {
          "output_type": "display_data",
          "data": {
            "image/png": "[encoded data removed]",
            "text/plain": [
              "<Figure size 432x288 with 1 Axes>"
            ]
          },
          "metadata": {
            "needs_background": "light"
          }
        }
      ]
    },
    {
      "cell_type": "markdown",
      "metadata": {
        "id": "V6Y2bguQB1Op"
      },
      "source": [
        "Then we can split the data into training and testing sets."
      ]
    },
    {
      "cell_type": "code",
      "metadata": {
        "colab": {
          "base_uri": "https://localhost:8080/"
        },
        "id": "sG0r2v_fB1Op",
        "outputId": "4b2fbbef-07d4-42e7-b430-9b44c2b5f458"
      },
      "source": [
        "# split the data\n",
        "X_train, X_test, y_train, y_test = train_test_split(X, y, random_state=0)\n",
        "\n",
        "# initiate a new object of the SVM class we just created, so it can use all the functions we made inside that SVM class\n",
        "# svm is a model\n",
        "svm = SVM()\n",
        "\n",
        "# fit the training data to the model\n",
        "svm.fit(X_train, y_train)"
      ],
      "execution_count": null,
      "outputs": [
        {
          "output_type": "stream",
          "name": "stdout",
          "text": [
            "     pcost       dcost       gap    pres   dres\n",
            " 0: -1.8226e+01 -3.4458e+01  6e+02  2e+01  2e+00\n",
            " 1: -2.5252e+01 -1.8773e+01  2e+02  9e+00  7e-01\n",
            " 2: -5.3459e+01 -3.2711e+01  2e+02  7e+00  6e-01\n",
            " 3: -7.8360e+01 -2.6482e+01  1e+02  4e+00  3e-01\n",
            " 4: -5.6818e+00 -5.1750e+00  1e+01  2e-01  1e-02\n",
            " 5: -3.6906e+00 -4.1082e+00  4e-01  4e-16  9e-15\n",
            " 6: -4.0061e+00 -4.0104e+00  4e-03  1e-15  6e-15\n",
            " 7: -4.0094e+00 -4.0094e+00  4e-05  1e-15  4e-15\n",
            " 8: -4.0094e+00 -4.0094e+00  4e-07  2e-15  7e-15\n",
            "Optimal solution found.\n"
          ]
        }
      ]
    },
    {
      "cell_type": "markdown",
      "metadata": {
        "id": "NMaH8sOaB1Oq"
      },
      "source": [
        "Next, we plot the decision boundary and support vectors."
      ]
    },
    {
      "cell_type": "code",
      "metadata": {
        "colab": {
          "base_uri": "https://localhost:8080/",
          "height": 282
        },
        "id": "5gJEhHN9B1Oq",
        "outputId": "c6c670c9-a9ba-4927-87d4-b6845cf92aab"
      },
      "source": [
        "def f(x, w, b, c=0):\n",
        "    return (-w[0] * x - b + c) / w[1]\n",
        "plt.scatter(X_train[:, 0], X_train[:, 1], c=y_train, cmap='winter')\n",
        "\n",
        "# w.x + b = 0\n",
        "a0 = -4; a1 = f(a0, svm.w, svm.b)\n",
        "b0 = 4; b1 = f(b0, svm.w, svm.b)\n",
        "plt.plot([a0,b0], [a1,b1], 'k')\n",
        "\n",
        "# w.x + b = 1\n",
        "a0 = -4; a1 = f(a0, svm.w, svm.b, 1)\n",
        "b0 = 4; b1 = f(b0, svm.w, svm.b, 1)\n",
        "plt.plot([a0,b0], [a1,b1], 'k--')\n",
        "\n",
        "# w.x + b = -1\n",
        "a0 = -4; a1 = f(a0, svm.w, svm.b, -1)\n",
        "b0 = 4; b1 = f(b0, svm.w, svm.b, -1)\n",
        "plt.plot([a0,b0], [a1,b1], 'k--')"
      ],
      "execution_count": null,
      "outputs": [
        {
          "output_type": "execute_result",
          "data": {
            "text/plain": [
              "[<matplotlib.lines.Line2D at 0x7f0c71d8f750>]"
            ]
          },
          "metadata": {},
          "execution_count": 5
        },
        {
          "output_type": "display_data",
          "data": {
            "image/png": "[encoded data removed]",
            "text/plain": [
              "<Figure size 432x288 with 1 Axes>"
            ]
          },
          "metadata": {
            "needs_background": "light"
          }
        }
      ]
    },
    {
      "cell_type": "markdown",
      "metadata": {
        "id": "BvKgjfl3B1Or"
      },
      "source": [
        "Now we can use our model to predict the classes of the samples in the testing dataset.\n",
        "\n",
        "The confusion matrix is used to evaluate the accuracy of our model."
      ]
    },
    {
      "cell_type": "code",
      "metadata": {
        "colab": {
          "base_uri": "https://localhost:8080/"
        },
        "id": "XCZWs256B1Os",
        "outputId": "25544b1b-6eca-47a8-b613-e30d60f121c2"
      },
      "source": [
        "y_pred = svm.predict(X_test)\n",
        "confusion_matrix(y_test, y_pred)"
      ],
      "execution_count": null,
      "outputs": [
        {
          "output_type": "execute_result",
          "data": {
            "text/plain": [
              "array([[29,  0],\n",
              "       [ 7, 27]])"
            ]
          },
          "metadata": {},
          "execution_count": 6
        }
      ]
    },
    {
      "cell_type": "markdown",
      "metadata": {
        "id": "D9FH545eB1Ot"
      },
      "source": [
        "## 1.2 Use Sci-ki Learn Functions"
      ]
    },
    {
      "cell_type": "markdown",
      "metadata": {
        "id": "w8HCh141B1Ov"
      },
      "source": [
        "Here we build the SVM using the powerful functions from **sklearn**, without defining the mathematical details by ourselves."
      ]
    },
    {
      "cell_type": "markdown",
      "metadata": {
        "id": "609TaICfize4"
      },
      "source": [
        "In the following cells below as mentioned right above we start bulding the SVM and using its fuctions with the follwoing data. "
      ]
    },
    {
      "cell_type": "code",
      "metadata": {
        "colab": {
          "base_uri": "https://localhost:8080/"
        },
        "id": "7TogYzjqB1Ox",
        "outputId": "854eec1d-eddb-47a1-ea4a-85edcd5e3518"
      },
      "source": [
        "# LinearSVC is an existing class from sklearn, now we can just use it as well as all the functions within\n",
        "svc = LinearSVC() \n",
        "\n",
        "# fit the training data to the model\n",
        "svc.fit(X_train, y_train)"
      ],
      "execution_count": null,
      "outputs": [
        {
          "output_type": "execute_result",
          "data": {
            "text/plain": [
              "LinearSVC(C=1.0, class_weight=None, dual=True, fit_intercept=True,\n",
              "          intercept_scaling=1, loss='squared_hinge', max_iter=1000,\n",
              "          multi_class='ovr', penalty='l2', random_state=None, tol=0.0001,\n",
              "          verbose=0)"
            ]
          },
          "metadata": {},
          "execution_count": 7
        }
      ]
    },
    {
      "cell_type": "markdown",
      "metadata": {
        "id": "DBMOqybuB1Oy"
      },
      "source": [
        "Plot the decision boundary and support vectors."
      ]
    },
    {
      "cell_type": "code",
      "metadata": {
        "colab": {
          "base_uri": "https://localhost:8080/",
          "height": 282
        },
        "id": "M0QE2TgzB1Oy",
        "outputId": "5e227409-1df2-4ef7-ee3f-6d2b86e70965"
      },
      "source": [
        "plt.scatter(X_train[:, 0], X_train[:, 1], c=y_train, cmap='winter');\n",
        "ax = plt.gca()\n",
        "xlim = ax.get_xlim()\n",
        "w = svc.coef_[0]\n",
        "a = -w[0] / w[1]\n",
        "xx = np.linspace(xlim[0], xlim[1])\n",
        "yy = a * xx - svc.intercept_[0] / w[1]\n",
        "plt.plot(xx, yy)\n",
        "yy = a * xx - (svc.intercept_[0] - 1) / w[1]\n",
        "plt.plot(xx, yy, 'k--')\n",
        "yy = a * xx - (svc.intercept_[0] + 1) / w[1]\n",
        "plt.plot(xx, yy, 'k--')"
      ],
      "execution_count": null,
      "outputs": [
        {
          "output_type": "execute_result",
          "data": {
            "text/plain": [
              "[<matplotlib.lines.Line2D at 0x7f0c71d2e9d0>]"
            ]
          },
          "metadata": {},
          "execution_count": 8
        },
        {
          "output_type": "display_data",
          "data": {
            "image/png": "[encoded data removed]",
            "text/plain": [
              "<Figure size 432x288 with 1 Axes>"
            ]
          },
          "metadata": {
            "needs_background": "light"
          }
        }
      ]
    },
    {
      "cell_type": "markdown",
      "metadata": {
        "id": "AehJz154B1Oy"
      },
      "source": [
        "Same as in 1.1, we now use our model to predict the classes of the samples in the testing dataset.\n",
        "\n",
        "The confusion matrix is used to evaluate the accuracy of our model."
      ]
    },
    {
      "cell_type": "code",
      "metadata": {
        "colab": {
          "base_uri": "https://localhost:8080/"
        },
        "id": "ndyjOPDzB1Oz",
        "outputId": "9a04baa0-682b-4a64-b79d-38cf0fc11a9f"
      },
      "source": [
        "y_pred = svc.predict(X_test)\n",
        "confusion_matrix(y_test, y_pred)"
      ],
      "execution_count": null,
      "outputs": [
        {
          "output_type": "execute_result",
          "data": {
            "text/plain": [
              "array([[29,  0],\n",
              "       [ 0, 34]])"
            ]
          },
          "metadata": {},
          "execution_count": 11
        }
      ]
    },
    {
      "cell_type": "markdown",
      "metadata": {
        "id": "0S-9QbDk5uVr"
      },
      "source": [
        "## 2. A simple example of SVM using sklearn linearSVM"
      ]
    },
    {
      "cell_type": "markdown",
      "metadata": {
        "id": "9FTcbZXPoZEi"
      },
      "source": [
        "In the cell below we see the iris data being utilized within this same structure we see a data x-axis and a target y-axis."
      ]
    },
    {
      "cell_type": "code",
      "metadata": {
        "id": "CpQCMN3W6IBS",
        "colab": {
          "base_uri": "https://localhost:8080/",
          "height": 231
        },
        "outputId": "f8643dee-c2a6-4e6f-b3d8-c088b7de00af"
      },
      "source": [
        "# see more about the Iris dataset in section 3\n",
        "\n",
        "#  Load data\n",
        "iris = datasets.load_iris()\n",
        "#  We can just consider the first two features\n",
        "X = iris.data[:, :2] \n",
        "y = iris.target\n",
        "\n",
        "C = 1.0 # SVM regularization parameters\n",
        "svm = svm.SVC(kernel='linear', C=1).fit(X, y)\n",
        "\n",
        "# Create a grid for visualization\n",
        "x_min, x_max = X[:, 0].min() - 1, X[:, 0].max() + 1\n",
        "y_min, y_max = X[:, 1].min() - 1, X[:, 1].max() + 1\n",
        "h = (x_max / x_min)/100\n",
        "xx, yy = np.meshgrid(np.arange(x_min, x_max, h), np.arange(y_min, y_max, h))\n",
        "\n",
        "# Visualization of results\n",
        "plt.subplot(1, 1, 1)\n",
        "Z = svc.predict(np.c_[xx.ravel(), yy.ravel()])\n",
        "Z = Z.reshape(xx.shape)\n",
        "plt.contourf(xx, yy, Z, cmap=plt.cm.Paired, alpha=0.8)\n",
        "\n",
        "plt.scatter(X[:, 0], X[:, 1], c=y, cmap=plt.cm.Paired)\n",
        "plt.xlabel('Sepal length')\n",
        "plt.ylabel('Sepal width')\n",
        "plt.xlim(xx.min(), xx.max())\n",
        "plt.title('SVC with linear kernel')\n",
        "plt.show()"
      ],
      "execution_count": null,
      "outputs": [
        {
          "output_type": "error",
          "ename": "AttributeError",
          "evalue": "ignored",
          "traceback": [
            "\u001b[0;31m---------------------------------------------------------------------------\u001b[0m",
            "\u001b[0;31mAttributeError\u001b[0m                            Traceback (most recent call last)",
            "\u001b[0;32m<ipython-input-21-e25fbef6e71c>\u001b[0m in \u001b[0;36m<module>\u001b[0;34m()\u001b[0m\n\u001b[1;32m      8\u001b[0m \u001b[0;34m\u001b[0m\u001b[0m\n\u001b[1;32m      9\u001b[0m \u001b[0mC\u001b[0m \u001b[0;34m=\u001b[0m \u001b[0;36m1.0\u001b[0m \u001b[0;31m# SVM regularization parameters\u001b[0m\u001b[0;34m\u001b[0m\u001b[0;34m\u001b[0m\u001b[0m\n\u001b[0;32m---> 10\u001b[0;31m \u001b[0msvm\u001b[0m \u001b[0;34m=\u001b[0m \u001b[0msvm\u001b[0m\u001b[0;34m.\u001b[0m\u001b[0mSVC\u001b[0m\u001b[0;34m(\u001b[0m\u001b[0mkernel\u001b[0m\u001b[0;34m=\u001b[0m\u001b[0;34m'linear'\u001b[0m\u001b[0;34m,\u001b[0m \u001b[0mC\u001b[0m\u001b[0;34m=\u001b[0m\u001b[0;36m1\u001b[0m\u001b[0;34m)\u001b[0m\u001b[0;34m.\u001b[0m\u001b[0mfit\u001b[0m\u001b[0;34m(\u001b[0m\u001b[0mX\u001b[0m\u001b[0;34m,\u001b[0m \u001b[0my\u001b[0m\u001b[0;34m)\u001b[0m\u001b[0;34m\u001b[0m\u001b[0;34m\u001b[0m\u001b[0m\n\u001b[0m\u001b[1;32m     11\u001b[0m \u001b[0;34m\u001b[0m\u001b[0m\n\u001b[1;32m     12\u001b[0m \u001b[0;31m# Create a grid for visualization\u001b[0m\u001b[0;34m\u001b[0m\u001b[0;34m\u001b[0m\u001b[0;34m\u001b[0m\u001b[0m\n",
            "\u001b[0;31mAttributeError\u001b[0m: 'SVM' object has no attribute 'SVC'"
          ]
        }
      ]
    },
    {
      "cell_type": "markdown",
      "metadata": {
        "id": "vzTo9G-aB1O0"
      },
      "source": [
        "## 3. SVM with different kernels with the Iris dataset"
      ]
    },
    {
      "cell_type": "markdown",
      "metadata": {
        "id": "vrtoIwYEB1O1"
      },
      "source": [
        "The **Iris flower data set or Fisher's Iris data set** is a multivariate data set introduced by the British statistician and biologist Ronald Fisher in his 1936 paper as an example of linear discriminant analysis. It is perhaps the best known database to be found in the pattern recognition literature.\n",
        "\n",
        "More information can be found here: https://archive.ics.uci.edu/ml/datasets/iris\n",
        "\n",
        "* Classes: 3 - 3 kinds of iris\n",
        "* Samples per class: 50\n",
        "* Samples total: 150\n",
        "* Dimensionality: 4 - 4 parameters of the iris flowers\n",
        "* Features: real, positive"
      ]
    },
    {
      "cell_type": "markdown",
      "metadata": {
        "id": "lBylZOYCkuLL"
      },
      "source": [
        "In this particular cell using the same iris data set here as we can see set to return the data set as X along woth their corresponding classes as Y. In the following cells after that we see a \"trimming\" of the data. Here we set certain data from appearing in the final output. Lastly, once we have completed the previously mentioned step we plot the data. "
      ]
    },
    {
      "cell_type": "code",
      "metadata": {
        "id": "4ZrLV1F4B1O2"
      },
      "source": [
        "X, y = datasets.load_iris(return_X_y = True) \n",
        "\n",
        "# returns all the data as X, and their corresponding classes as y\n",
        "# 4 columns in total, for the four parameters\n",
        "# check the document for load_iris() function: https://scikit-learn.org/stable/modules/generated/sklearn.datasets.load_iris.html"
      ],
      "execution_count": null,
      "outputs": []
    },
    {
      "cell_type": "markdown",
      "metadata": {
        "id": "YUSwwB10B1O2"
      },
      "source": [
        "Trim the data to 2 variables/parameters and 2 classes, then scale the data"
      ]
    },
    {
      "cell_type": "code",
      "metadata": {
        "id": "nVlrsK6lB1O4"
      },
      "source": [
        "X_trimmed = X[:, 1:3] # keep all the rows, column 1 and 2\n",
        "X_trimmed = X_trimmed[y != 0, :] # delete the data in X that belongs to class 0\n",
        "y_trimmed = y[y != 0] # delete all the class 0 tags in y\n",
        "\n",
        "# scale the data for better performance\n",
        "create_scaler = create_scaler_minmax\n",
        "scaler = create_scaler()\n",
        "scaler.fit(X_trimmed)\n",
        "X_trimmed = scaler.transform(X_trimmed)"
      ],
      "execution_count": null,
      "outputs": []
    },
    {
      "cell_type": "markdown",
      "metadata": {
        "id": "wZ19WbRxB1O4"
      },
      "source": [
        "Plot the trimmed data with different colors"
      ]
    },
    {
      "cell_type": "code",
      "metadata": {
        "colab": {
          "base_uri": "https://localhost:8080/",
          "height": 295
        },
        "id": "7UeaquMlB1O5",
        "outputId": "98effcef-12c3-4eff-8378-7be642c5fc2b"
      },
      "source": [
        "plt.scatter(X_trimmed[:, 0], X_trimmed[:, 1], # these are the data of the 2 parameters picked\n",
        "            c = y_trimmed, # y is the class of each dot, represented by blue and red\n",
        "            s = 30, cmap = plt.cm.bwr)\n",
        "\n",
        "plt.title('Visualization of reduced iris problem')\n",
        "plt.xlabel('Sepal width')  # X_trimmed[:, 0], column 0\n",
        "plt.ylabel('Petal length') # X_trimmed[:, 1], column 1\n",
        "plt.show()"
      ],
      "execution_count": null,
      "outputs": [
        {
          "output_type": "display_data",
          "data": {
            "image/png": "[encoded data removed]",
            "text/plain": [
              "<Figure size 432x288 with 1 Axes>"
            ]
          },
          "metadata": {
            "needs_background": "light"
          }
        }
      ]
    },
    {
      "cell_type": "markdown",
      "metadata": {
        "id": "8KGA-PDxB1O6"
      },
      "source": [
        "## 3.1 Build the Support Vector Machines Classifier"
      ]
    },
    {
      "cell_type": "markdown",
      "metadata": {
        "id": "Wfc2c28vB1O7"
      },
      "source": [
        "Here we will build multiple classifiers for this single dataset, in a single interactive plot, to show the difference causing by the choice of the kernel. SVM also has many other parameters, the choices of these parameters will lead to huge difference of the results.\n",
        "\n",
        "A full list of parameters can be found here: https://scikit-learn.org/stable/modules/generated/sklearn.svm.SVC.html"
      ]
    },
    {
      "cell_type": "code",
      "metadata": {
        "id": "0FL3zHtGB1O8"
      },
      "source": [
        "# Here we use closure to store the related variables\n",
        "def create_plot_svm_classification_kernels(_X, _y):\n",
        "    X, y = _X, _y\n",
        "    \n",
        "    def plot_svc_kernel(C = 1, kernel = 'linear', expand = 3.1, intensity = 0.5):\n",
        "        # kernel{‘linear’, ‘poly’, ‘rbf’, ‘sigmoid’, ‘precomputed’}, default=’rbf’\n",
        "        \n",
        "        # build the model here, clf is the model\n",
        "        if kernel.startswith('poly'):\n",
        "            clf = SVC(kernel = 'poly', C = C, gamma = 'auto', degree = int(kernel[4:]))\n",
        "            # degree, int, default=3, degree of the polynomial kernel function (‘poly’) \n",
        "            # Ignored by all other kernels. That's why the poly kernel is picked out here\n",
        "    \n",
        "        else:\n",
        "            clf = SVC(kernel = kernel, C = C, gamma = 'auto')\n",
        "            # gamma{‘scale’, ‘auto’} or float, default=’scale’, Kernel coefficient for ‘rbf’, ‘poly’ and ‘sigmoid’\n",
        "            # other parameters take default value\n",
        "        \n",
        "        # fit the iris training data to the model we just built\n",
        "        # the modeling is all done\n",
        "        clf.fit(X, y)\n",
        "    \n",
        "    \n",
        "        # plot the result (both the training data and the classifier)\n",
        "        # since we are going to present different kernel, this plotting program is complex, just for the teaching purpose\n",
        "        # under normal settings, we only need to plot a single kernel\n",
        "        fig, ax = plt.subplots()\n",
        "        ax.plot((np.min(X[:, 0]) - expand, np.max(X[:, 0]) + expand), \n",
        "                (np.min(X[:, 1]) - expand, np.max(X[:, 1]) + expand), alpha=0.0)\n",
        "        \n",
        "        xlim = ax.get_xlim()\n",
        "        ylim = ax.get_ylim()\n",
        "        \n",
        "        xx = np.linspace(xlim[0], xlim[1], 400)\n",
        "        yy = np.linspace(ylim[0], ylim[1], 200)\n",
        "        \n",
        "        YY, XX = np.meshgrid(yy, xx)\n",
        "        xy = np.vstack([XX.ravel(), YY.ravel()]).T\n",
        "        Z = clf.decision_function(xy).reshape(XX.shape)\n",
        "        v = max(-np.min(Z), np.max(Z))\n",
        "        cf = ax.contourf(XX, YY, Z, 200, cmap='coolwarm', \n",
        "                         norm = mpl.colors.Normalize(vmin=-v, vmax=v), alpha=intensity)\n",
        "        \n",
        "        ax.scatter(X[:, 0], X[:, 1], c=y, s=30, cmap=plt.cm.bwr)\n",
        "        ax.contour(XX, YY, Z, colors='k', levels=[-1, 0, 1], alpha=0.8,\n",
        "                   linestyles=['--', '-', '--'], linewidths=[2, 5, 2])\n",
        "        ax.scatter(clf.support_vectors_[:, 0], clf.support_vectors_[:, 1], s=100,\n",
        "                   linewidth=1, facecolors='none', edgecolors='k')\n",
        "        \n",
        "        plt.xlabel('Sepal width')\n",
        "        plt.ylabel('Petal length')\n",
        "        plt.title('Support Vector Machines Classifier: C=%s, %s kernel.' % (str(C), kernel))\n",
        "        plt.show()\n",
        "        \n",
        "    return plot_svc_kernel"
      ],
      "execution_count": null,
      "outputs": []
    },
    {
      "cell_type": "markdown",
      "metadata": {
        "id": "h8Q7x-iGB1O9"
      },
      "source": [
        "Build an interactive diagram with widgets, only for teaching purpose."
      ]
    },
    {
      "cell_type": "code",
      "metadata": {
        "colab": {
          "base_uri": "https://localhost:8080/",
          "height": 440,
          "referenced_widgets": [
            "e4cec328b3a54da28b2fa1b223bc99a8",
            "582203cb218742d8afec58e696c2a276",
            "6c4f1e59ae3c47599560a1966907b38b",
            "91ee0c5eca66412d9c32d98f4ad6f29a",
            "b6cced0508b2448f871080ca69dc16ce",
            "016804dab882420095099cbbe2e52a48",
            "aedf7a77ceab4bbc824e53a3b8c6ca99",
            "bfa0912b2d5f44a9aa80fd098fde84a9",
            "e7fa0cd330114205a8ddd10ebb45e069",
            "657b301e565e4beab5cad025b81ea430",
            "e115e89239bf46e792d8366727bf154a",
            "1a87fe527df94024aab7a427f314e0f8",
            "4e23bfcc92d642b78d143764192e494e",
            "8ab6b8d5b95d4e75920df545667beea6",
            "c7d71ad5e7604219b9672a54115a793f",
            "c76afb88657c47f6bc9e2e19b487af4e"
          ]
        },
        "id": "G_q49yDkB1O-",
        "outputId": "9c7bf072-e910-4728-ba1d-ad65127ee8cc"
      },
      "source": [
        "kernels = ['linear'] + ['poly'+str(x) for x in range(1, 9)] + ['rbf']\n",
        "С_widget = widgets.FloatLogSlider(\n",
        "    value=1,\n",
        "    base=10,\n",
        "    min=-4,\n",
        "    max=4,\n",
        "    step=0.5,\n",
        "    continuous_update=False,\n",
        "    description='C')\n",
        "expand_widget = widgets.FloatSlider(\n",
        "    value=3.1,\n",
        "    min=0,\n",
        "    max=10,\n",
        "    step=0.1,\n",
        "    continuous_update=False,\n",
        "    description='expand:')\n",
        "intensity_widget = widgets.FloatSlider(\n",
        "    value=0.5,\n",
        "    min=0.1,\n",
        "    max=0.9,\n",
        "    step=0.1,\n",
        "    continuous_update=False,\n",
        "    description='contour intensity:')\n",
        "\n",
        "# Call the function we just made\n",
        "interact(create_plot_svm_classification_kernels(X_trimmed, y_trimmed), \n",
        "         C = С_widget, kernel = kernels, expand = expand_widget, intensity = intensity_widget)"
      ],
      "execution_count": null,
      "outputs": [
        {
          "output_type": "display_data",
          "data": {
            "application/vnd.jupyter.widget-view+json": {
              "model_id": "e4cec328b3a54da28b2fa1b223bc99a8",
              "version_minor": 0,
              "version_major": 2
            },
            "text/plain": [
              "interactive(children=(FloatLogSlider(value=1.0, continuous_update=False, description='C', min=-4.0, step=0.5),…"
            ]
          },
          "metadata": {}
        },
        {
          "output_type": "execute_result",
          "data": {
            "text/plain": [
              "<function __main__.create_plot_svm_classification_kernels.<locals>.plot_svc_kernel>"
            ]
          },
          "metadata": {},
          "execution_count": 18
        }
      ]
    },
    {
      "cell_type": "markdown",
      "metadata": {
        "id": "MMXXBQfyB1PA"
      },
      "source": [
        "**NOTE: To support interactive plots in jupyter lab, run these in command line:**\n",
        "\n",
        "1. To install the nodejs package with conda run one of the following, make sure the version is above 12.0.0\n",
        "\n",
        "conda install -c conda-forge nodejs \n",
        "\n",
        "conda install -c conda-forge/label/gcc7 nodejs \n",
        "\n",
        "conda install -c conda-forge/label/cf201901 nodejs \n",
        "\n",
        "conda install -c conda-forge/label/cf202003 nodejs\n",
        "\n",
        "reference: https://anaconda.org/conda-forge/nodejs\n",
        "\n",
        "2. This line may take a while to finish running, do not interrupt:\n",
        "\n",
        "jupyter labextension install @jupyter-widgets/jupyterlab-manager"
      ]
    }
  ]
}