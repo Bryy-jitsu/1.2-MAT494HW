{
  "nbformat": 4,
  "nbformat_minor": 0,
  "metadata": {
    "kernelspec": {
      "display_name": "Python 3",
      "language": "python",
      "name": "python3"
    },
    "language_info": {
      "codemirror_mode": {
        "name": "ipython",
        "version": 3
      },
      "file_extension": ".py",
      "mimetype": "text/x-python",
      "name": "python",
      "nbconvert_exporter": "python",
      "pygments_lexer": "ipython3",
      "version": "3.9.1"
    },
    "colab": {
      "name": "1. Linear Algebra.ipynb",
      "provenance": [],
      "collapsed_sections": [
        "_yolD9fKi4gA",
        "4uf7YS9Di4gA",
        "figuRZSoi4gA",
        "bDuPPhtyi4gB",
        "-EWPS7YMi4gB",
        "uGsWBTfki4gD",
        "NYEv8E_Wi4gE",
        "YAfrXmeNi4gF",
        "NB2rjrYdi4gF",
        "jjUMSfsNi4gI",
        "coaq4p6oi4gJ",
        "Tx0X29R-i4gK"
      ]
    }
  },
  "cells": [
    {
      "cell_type": "markdown",
      "metadata": {
        "id": "bcEZKY9ni4fq"
      },
      "source": [
        "# Chapter 1. Linear Algebra - Review\n",
        "\n",
        "Here, we provide some examples of linear algebra and the usage of Numpy Arrays.\n",
        "\n",
        "Copyright:\n",
        "\n"
      ]
    },
    {
      "cell_type": "markdown",
      "metadata": {
        "id": "wxxjbsSoi4f7"
      },
      "source": [
        "## 1.2 Numpy Array"
      ]
    },
    {
      "cell_type": "code",
      "metadata": {
        "id": "RXwzXfS7i4f7",
        "colab": {
          "base_uri": "https://localhost:8080/"
        },
        "outputId": "588651dd-a12c-4346-d1d7-da59924345f1"
      },
      "source": [
        "import numpy as np\n",
        "a = np.zeros((3, 5))\n",
        "# note the extra bracket you need for calling np.zeros\n",
        "print(a, '\\n')\n",
        "\n",
        "# shape of the array\n",
        "print('len =',len(a))\n",
        "print('shape =',a.shape)"
      ],
      "execution_count": 2,
      "outputs": [
        {
          "output_type": "stream",
          "text": [
            "[[0. 0. 0. 0. 0.]\n",
            " [0. 0. 0. 0. 0.]\n",
            " [0. 0. 0. 0. 0.]] \n",
            "\n",
            "len = 3\n",
            "shape = (3, 5)\n"
          ],
          "name": "stdout"
        }
      ]
    },
    {
      "cell_type": "code",
      "metadata": {
        "id": "26gdBIjni4f7",
        "colab": {
          "base_uri": "https://localhost:8080/"
        },
        "outputId": "943d65ef-03c2-4984-c888-f347854fff62"
      },
      "source": [
        "# pick two output valuables from a method\n",
        "a = np.zeros((3,5))\n",
        "nx,ny = a.shape\n",
        "print('nx =', nx)\n",
        "print('ny =', ny)"
      ],
      "execution_count": 7,
      "outputs": [
        {
          "output_type": "stream",
          "text": [
            "nx = 3\n",
            "ny = 5\n"
          ],
          "name": "stdout"
        }
      ]
    },
    {
      "cell_type": "code",
      "metadata": {
        "id": "BludpCT9i4f8",
        "colab": {
          "base_uri": "https://localhost:8080/"
        },
        "outputId": "9fc92c86-fb1e-4fb4-a835-bd6b0f779e73"
      },
      "source": [
        "# ways to generate a constant array\n",
        "\n",
        "a = np.zeros((3,5)) + 7\n",
        "print(a, '\\n')\n",
        "\n",
        "b = np.ones((3,5)) * 7\n",
        "print(b, '\\n')\n",
        "\n",
        "c = np.full((3,5), 7)\n",
        "print(c)"
      ],
      "execution_count": 4,
      "outputs": [
        {
          "output_type": "stream",
          "text": [
            "[[7. 7. 7. 7. 7.]\n",
            " [7. 7. 7. 7. 7.]\n",
            " [7. 7. 7. 7. 7.]] \n",
            "\n",
            "[[7. 7. 7. 7. 7.]\n",
            " [7. 7. 7. 7. 7.]\n",
            " [7. 7. 7. 7. 7.]] \n",
            "\n",
            "[[7 7 7 7 7]\n",
            " [7 7 7 7 7]\n",
            " [7 7 7 7 7]]\n"
          ],
          "name": "stdout"
        }
      ]
    },
    {
      "cell_type": "code",
      "metadata": {
        "colab": {
          "base_uri": "https://localhost:8080/"
        },
        "id": "KPRpUljDi4f8",
        "outputId": "e9765e6c-4af0-4e14-e12c-2137b4c25966"
      },
      "source": [
        "# identity matrix function eye()\n",
        "a = np.eye(5)\n",
        "print(a)"
      ],
      "execution_count": 5,
      "outputs": [
        {
          "output_type": "stream",
          "text": [
            "[[1. 0. 0. 0. 0.]\n",
            " [0. 1. 0. 0. 0.]\n",
            " [0. 0. 1. 0. 0.]\n",
            " [0. 0. 0. 1. 0.]\n",
            " [0. 0. 0. 0. 1.]]\n"
          ],
          "name": "stdout"
        }
      ]
    },
    {
      "cell_type": "code",
      "metadata": {
        "id": "n3gY30eti4f9",
        "colab": {
          "base_uri": "https://localhost:8080/"
        },
        "outputId": "17dbdd25-d009-4897-c751-229c6ded3126"
      },
      "source": [
        "# index\n",
        "a = np.array(([1,2], [3,4], [5,6]))\n",
        "print(a)"
      ],
      "execution_count": 6,
      "outputs": [
        {
          "output_type": "stream",
          "text": [
            "[[1 2]\n",
            " [3 4]\n",
            " [5 6]]\n"
          ],
          "name": "stdout"
        }
      ]
    },
    {
      "cell_type": "code",
      "metadata": {
        "id": "8lKWo2cxi4f9",
        "colab": {
          "base_uri": "https://localhost:8080/"
        },
        "outputId": "4b4a0a49-8e3e-44cd-fa59-915b6647ac66"
      },
      "source": [
        "# slice index\n",
        "a = np.array([[1,2,3,4], [5,6,7,8], [9,10,11,12]])\n",
        "print(a)\n",
        "b = a[:2, 1:3]\n",
        "print(b)"
      ],
      "execution_count": 7,
      "outputs": [
        {
          "output_type": "stream",
          "text": [
            "[[ 1  2  3  4]\n",
            " [ 5  6  7  8]\n",
            " [ 9 10 11 12]]\n",
            "[[2 3]\n",
            " [6 7]]\n"
          ],
          "name": "stdout"
        }
      ]
    },
    {
      "cell_type": "code",
      "metadata": {
        "id": "kCVKLaiMi4f9",
        "colab": {
          "base_uri": "https://localhost:8080/"
        },
        "outputId": "7565df70-979a-444b-d718-4262d286e9c0"
      },
      "source": [
        "# mix integer and slice index\n",
        "a = np.array([[1,2,3,4], [5,6,7,8], [9,10,11,12]])\n",
        "print(a)\n",
        "b = a[1, :]\n",
        "print(b)"
      ],
      "execution_count": 8,
      "outputs": [
        {
          "output_type": "stream",
          "text": [
            "[[ 1  2  3  4]\n",
            " [ 5  6  7  8]\n",
            " [ 9 10 11 12]]\n",
            "[5 6 7 8]\n"
          ],
          "name": "stdout"
        }
      ]
    },
    {
      "cell_type": "code",
      "metadata": {
        "id": "QxvI9Fw3i4f-",
        "colab": {
          "base_uri": "https://localhost:8080/"
        },
        "outputId": "f236ae9c-9744-4fff-deff-abdc8cd27b57"
      },
      "source": [
        "# use two list as index\n",
        "a = np.array([[1,2,3,4], [5,6,7,8], [9,10,11,12]])\n",
        "print(a, '\\n')\n",
        "print(a[[0,1,2],[2,1,2]])"
      ],
      "execution_count": 6,
      "outputs": [
        {
          "output_type": "stream",
          "text": [
            "[[ 1  2  3  4]\n",
            " [ 5  6  7  8]\n",
            " [ 9 10 11 12]] \n",
            "\n",
            "[ 3  6 11]\n"
          ],
          "name": "stdout"
        }
      ]
    },
    {
      "cell_type": "code",
      "metadata": {
        "id": "pwQFXTfoi4f-",
        "colab": {
          "base_uri": "https://localhost:8080/"
        },
        "outputId": "ea49294f-48c8-4c36-a0cd-ec397e7f7e17"
      },
      "source": [
        "# update values\n",
        "a = np.zeros((3,3))\n",
        "for i in range(3):\n",
        "    a[:,i] = i\n",
        "print('before\\n',a)\n",
        "\n",
        "a[1,:] += 10\n",
        "print('after\\n',a)"
      ],
      "execution_count": 11,
      "outputs": [
        {
          "output_type": "stream",
          "text": [
            "before\n",
            " [[0. 1. 2.]\n",
            " [0. 1. 2.]\n",
            " [0. 1. 2.]]\n",
            "after\n",
            " [[ 0.  1.  2.]\n",
            " [10. 11. 12.]\n",
            " [ 0.  1.  2.]]\n"
          ],
          "name": "stdout"
        }
      ]
    },
    {
      "cell_type": "code",
      "metadata": {
        "id": "EIGEcuM2i4f-",
        "colab": {
          "base_uri": "https://localhost:8080/"
        },
        "outputId": "67341ee7-06cf-4fd9-8ad3-c58429e5a99a"
      },
      "source": [
        "a = np.zeros((3,3))\n",
        "for i in range(3):\n",
        "    a[:,i] = i\n",
        "print('before\\n',a)\n",
        "\n",
        "a[:,2] = 5.\n",
        "print('after\\n',a)"
      ],
      "execution_count": 13,
      "outputs": [
        {
          "output_type": "stream",
          "text": [
            "before\n",
            " [[0. 1. 2.]\n",
            " [0. 1. 2.]\n",
            " [0. 1. 2.]]\n",
            "after\n",
            " [[0. 1. 5.]\n",
            " [0. 1. 5.]\n",
            " [0. 1. 5.]]\n"
          ],
          "name": "stdout"
        }
      ]
    },
    {
      "cell_type": "code",
      "metadata": {
        "id": "MSiL6JTOi4f-",
        "colab": {
          "base_uri": "https://localhost:8080/"
        },
        "outputId": "42bf5dcf-e3a8-442e-8799-724771ccd72d"
      },
      "source": [
        "# type of data in the array\n",
        "a=np.array(([1,1],[1,1]))\n",
        "print(a)\n",
        "print(a.dtype)"
      ],
      "execution_count": 16,
      "outputs": [
        {
          "output_type": "stream",
          "text": [
            "[[1 1]\n",
            " [1 1]]\n",
            "int64\n"
          ],
          "name": "stdout"
        }
      ]
    },
    {
      "cell_type": "code",
      "metadata": {
        "id": "E4vCyLgZi4f_",
        "colab": {
          "base_uri": "https://localhost:8080/"
        },
        "outputId": "5fddca15-57e3-4204-f902-d0f6c4d6d522"
      },
      "source": [
        "a=np.array(([1.,1],[1,1]))\n",
        "print(a)\n",
        "print(a.dtype)"
      ],
      "execution_count": 15,
      "outputs": [
        {
          "output_type": "stream",
          "text": [
            "[[1. 1.]\n",
            " [1. 1.]]\n",
            "float64\n"
          ],
          "name": "stdout"
        }
      ]
    },
    {
      "cell_type": "code",
      "metadata": {
        "id": "c6YEtnKIi4f_",
        "colab": {
          "base_uri": "https://localhost:8080/"
        },
        "outputId": "70f6bb87-47b3-44e8-9bf3-9bf1f8db0b37"
      },
      "source": [
        "a=np.array(([1.,1],[1,1]))>2\n",
        "print(a)\n",
        "print(a.dtype)"
      ],
      "execution_count": 17,
      "outputs": [
        {
          "output_type": "stream",
          "text": [
            "[[False False]\n",
            " [False False]]\n",
            "bool\n"
          ],
          "name": "stdout"
        }
      ]
    },
    {
      "cell_type": "code",
      "metadata": {
        "id": "7xhD8tSDi4f_",
        "colab": {
          "base_uri": "https://localhost:8080/"
        },
        "outputId": "4ce0220e-33b2-48f3-ff05-b36e692b0cc5"
      },
      "source": [
        "a=np.array((['1','1'],['1','1']))\n",
        "print(a)\n",
        "print(a.dtype)"
      ],
      "execution_count": 3,
      "outputs": [
        {
          "output_type": "stream",
          "text": [
            "[['1' '1']\n",
            " ['1' '1']]\n",
            "<U1\n"
          ],
          "name": "stdout"
        }
      ]
    },
    {
      "cell_type": "code",
      "metadata": {
        "id": "IhYH31Owi4f_",
        "colab": {
          "base_uri": "https://localhost:8080/"
        },
        "outputId": "adbe26be-4ab3-442b-9ce4-1abc5f6efb64"
      },
      "source": [
        "a=np.array((['1','1'],['1','1']),dtype=float)\n",
        "print(a)\n",
        "print(a.dtype)"
      ],
      "execution_count": 5,
      "outputs": [
        {
          "output_type": "stream",
          "text": [
            "[[1. 1.]\n",
            " [1. 1.]]\n",
            "float64\n"
          ],
          "name": "stdout"
        }
      ]
    }
  ]
}