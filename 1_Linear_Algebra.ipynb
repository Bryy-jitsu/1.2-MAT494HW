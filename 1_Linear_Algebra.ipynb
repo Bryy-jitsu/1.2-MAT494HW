{
  "nbformat": 4,
  "nbformat_minor": 0,
  "metadata": {
    "kernelspec": {
      "display_name": "Python 3",
      "language": "python",
      "name": "python3"
    },
    "language_info": {
      "codemirror_mode": {
        "name": "ipython",
        "version": 3
      },
      "file_extension": ".py",
      "mimetype": "text/x-python",
      "name": "python",
      "nbconvert_exporter": "python",
      "pygments_lexer": "ipython3",
      "version": "3.9.1"
    },
    "colab": {
      "name": "1. Linear Algebra.ipynb",
      "provenance": [],
      "collapsed_sections": []
    }
  },
  "cells": [
    {
      "cell_type": "markdown",
      "metadata": {
        "id": "bcEZKY9ni4fq"
      },
      "source": [
        "# Chapter 1. Linear Algebra - Review\n",
        "\n",
        "Here, we provide some examples of linear algebra and the usage of Numpy Arrays.\n",
        "\n",
        "Copyright:\n",
        "\n"
      ]
    },
    {
      "cell_type": "markdown",
      "metadata": {
        "id": "wxxjbsSoi4f7"
      },
      "source": [
        "## 1.2 Numpy Array"
      ]
    },
    {
      "cell_type": "markdown",
      "metadata": {
        "id": "SErBo3TNveCX"
      },
      "source": [
        ""
      ]
    },
    {
      "cell_type": "markdown",
      "metadata": {
        "id": "mPR2idHTvgWu"
      },
      "source": [
        "The given array below is set to print out 3 rows and 5 columns as we can see all printed in zeros which we got when using .zeros(( , )) "
      ]
    },
    {
      "cell_type": "code",
      "metadata": {
        "id": "RXwzXfS7i4f7",
        "colab": {
          "base_uri": "https://localhost:8080/"
        },
        "outputId": "588651dd-a12c-4346-d1d7-da59924345f1"
      },
      "source": [
        "import numpy as np\n",
        "a = np.zeros((3, 5))\n",
        "# note the extra bracket you need for calling np.zeros\n",
        "print(a, '\\n')\n",
        "\n",
        "# shape of the array\n",
        "print('len =',len(a))\n",
        "print('shape =',a.shape)"
      ],
      "execution_count": null,
      "outputs": [
        {
          "output_type": "stream",
          "text": [
            "[[0. 0. 0. 0. 0.]\n",
            " [0. 0. 0. 0. 0.]\n",
            " [0. 0. 0. 0. 0.]] \n",
            "\n",
            "len = 3\n",
            "shape = (3, 5)\n"
          ],
          "name": "stdout"
        }
      ]
    },
    {
      "cell_type": "markdown",
      "metadata": {
        "id": "scWSDjfVvoCz"
      },
      "source": [
        "In this particular python code below we are given the parameters (3,5) which then are used to indicate the number of dimensions in the array which is shown by \".shape\" the x-axis being 3 and the y-axis being 5."
      ]
    },
    {
      "cell_type": "code",
      "metadata": {
        "id": "26gdBIjni4f7",
        "colab": {
          "base_uri": "https://localhost:8080/"
        },
        "outputId": "943d65ef-03c2-4984-c888-f347854fff62"
      },
      "source": [
        "# pick two output valuables from a method\n",
        "a = np.zeros((3,5))\n",
        "nx,ny = a.shape\n",
        "print('nx =', nx)\n",
        "print('ny =', ny)"
      ],
      "execution_count": null,
      "outputs": [
        {
          "output_type": "stream",
          "text": [
            "nx = 3\n",
            "ny = 5\n"
          ],
          "name": "stdout"
        }
      ]
    },
    {
      "cell_type": "markdown",
      "metadata": {
        "id": "RuCUzr74vsrg"
      },
      "source": [
        "Each array below A,B, and C each contain 3 rows and 5 columns which we get due to the parameters given each one being printed with 7's"
      ]
    },
    {
      "cell_type": "code",
      "metadata": {
        "id": "BludpCT9i4f8",
        "colab": {
          "base_uri": "https://localhost:8080/"
        },
        "outputId": "9fc92c86-fb1e-4fb4-a835-bd6b0f779e73"
      },
      "source": [
        "# ways to generate a constant array\n",
        "\n",
        "a = np.zeros((3,5)) + 7\n",
        "print(a, '\\n')\n",
        "\n",
        "b = np.ones((3,5)) * 7\n",
        "print(b, '\\n')\n",
        "\n",
        "c = np.full((3,5), 7)\n",
        "print(c)"
      ],
      "execution_count": null,
      "outputs": [
        {
          "output_type": "stream",
          "text": [
            "[[7. 7. 7. 7. 7.]\n",
            " [7. 7. 7. 7. 7.]\n",
            " [7. 7. 7. 7. 7.]] \n",
            "\n",
            "[[7. 7. 7. 7. 7.]\n",
            " [7. 7. 7. 7. 7.]\n",
            " [7. 7. 7. 7. 7.]] \n",
            "\n",
            "[[7 7 7 7 7]\n",
            " [7 7 7 7 7]\n",
            " [7 7 7 7 7]]\n"
          ],
          "name": "stdout"
        }
      ]
    },
    {
      "cell_type": "markdown",
      "metadata": {
        "id": "FFyjv0Ujvxl2"
      },
      "source": [
        "The given array below contains 5 rows and 5 columns; the array being 2-d with 1's and 0's due to the .eye function."
      ]
    },
    {
      "cell_type": "code",
      "metadata": {
        "colab": {
          "base_uri": "https://localhost:8080/"
        },
        "id": "KPRpUljDi4f8",
        "outputId": "e9765e6c-4af0-4e14-e12c-2137b4c25966"
      },
      "source": [
        "# identity matrix function eye()\n",
        "a = np.eye(5)\n",
        "print(a)"
      ],
      "execution_count": null,
      "outputs": [
        {
          "output_type": "stream",
          "text": [
            "[[1. 0. 0. 0. 0.]\n",
            " [0. 1. 0. 0. 0.]\n",
            " [0. 0. 1. 0. 0.]\n",
            " [0. 0. 0. 1. 0.]\n",
            " [0. 0. 0. 0. 1.]]\n"
          ],
          "name": "stdout"
        }
      ]
    },
    {
      "cell_type": "markdown",
      "metadata": {
        "id": "Yfw8GI-Yv1oT"
      },
      "source": [
        "in the given array below we have 3 set of numbers which each set of numbers within the brackets represents an index."
      ]
    },
    {
      "cell_type": "code",
      "metadata": {
        "id": "n3gY30eti4f9",
        "colab": {
          "base_uri": "https://localhost:8080/"
        },
        "outputId": "17dbdd25-d009-4897-c751-229c6ded3126"
      },
      "source": [
        "# index\n",
        "a = np.array(([1,2], [3,4], [5,6]))\n",
        "print(a)"
      ],
      "execution_count": null,
      "outputs": [
        {
          "output_type": "stream",
          "text": [
            "[[1 2]\n",
            " [3 4]\n",
            " [5 6]]\n"
          ],
          "name": "stdout"
        }
      ]
    },
    {
      "cell_type": "markdown",
      "metadata": {
        "id": "bJ0gMQssv7jR"
      },
      "source": [
        "The Two arrays below are given are fixed arrays that we have based on the parameters we plugged in, the second print out of b = a[:2, 1:3] indicates the indexes of the initial array giving us [2 3] [6 7]"
      ]
    },
    {
      "cell_type": "code",
      "metadata": {
        "id": "8lKWo2cxi4f9",
        "colab": {
          "base_uri": "https://localhost:8080/"
        },
        "outputId": "4b4a0a49-8e3e-44cd-fa59-915b6647ac66"
      },
      "source": [
        "# slice index\n",
        "a = np.array([[1,2,3,4], [5,6,7,8], [9,10,11,12]])\n",
        "print(a)\n",
        "b = a[:2, 1:3]\n",
        "print(b)"
      ],
      "execution_count": null,
      "outputs": [
        {
          "output_type": "stream",
          "text": [
            "[[ 1  2  3  4]\n",
            " [ 5  6  7  8]\n",
            " [ 9 10 11 12]]\n",
            "[[2 3]\n",
            " [6 7]]\n"
          ],
          "name": "stdout"
        }
      ]
    },
    {
      "cell_type": "markdown",
      "metadata": {
        "id": "kKvTSwKRwA3f"
      },
      "source": [
        "In this array below we are given three sets of numbers which all together have their own index. In the second print out of b = a[1, :]\n",
        "print(b) we are given to print out index 1 which in this case is [5,6,7,8]."
      ]
    },
    {
      "cell_type": "code",
      "metadata": {
        "id": "kCVKLaiMi4f9",
        "colab": {
          "base_uri": "https://localhost:8080/"
        },
        "outputId": "6e624140-0a13-424e-f493-5739c6cebbfa"
      },
      "source": [
        "# mix integer and slice index\n",
        "a = np.array([[1,2,3,4], [5,6,7,8], [9,10,11,12]]) \n",
        "print(a)\n",
        "b = a[1, :]\n",
        "print(b)"
      ],
      "execution_count": 10,
      "outputs": [
        {
          "output_type": "stream",
          "text": [
            "[[ 1  2  3  4]\n",
            " [ 5  6  7  8]\n",
            " [ 9 10 11 12]]\n",
            "[5 6 7 8]\n"
          ],
          "name": "stdout"
        }
      ]
    },
    {
      "cell_type": "code",
      "metadata": {
        "id": "QxvI9Fw3i4f-",
        "colab": {
          "base_uri": "https://localhost:8080/"
        },
        "outputId": "f236ae9c-9744-4fff-deff-abdc8cd27b57"
      },
      "source": [
        "# use two list as index\n",
        "a = np.array([[1,2,3,4], [5,6,7,8], [9,10,11,12]])\n",
        "print(a, '\\n')\n",
        "print(a[[0,1,2],[2,1,2]])"
      ],
      "execution_count": null,
      "outputs": [
        {
          "output_type": "stream",
          "text": [
            "[[ 1  2  3  4]\n",
            " [ 5  6  7  8]\n",
            " [ 9 10 11 12]] \n",
            "\n",
            "[ 3  6 11]\n"
          ],
          "name": "stdout"
        }
      ]
    },
    {
      "cell_type": "markdown",
      "metadata": {
        "id": "QtqxcPm5wL-5"
      },
      "source": [
        "The array given below as we can see is derived of 3 rows as well as 3 columns, all printed within range of indexes 0-2 we can see this happening on \"for i in range(3):\" In the second print out of the code we see in the second set of number everything increasing by 10, this is due to \"a[1,:] += 10\" which is indicating for everything in index \"1\" to be increased by 10."
      ]
    },
    {
      "cell_type": "code",
      "metadata": {
        "id": "pwQFXTfoi4f-",
        "colab": {
          "base_uri": "https://localhost:8080/"
        },
        "outputId": "36f0c13f-e160-43a9-9cdd-623dd5dcb41e"
      },
      "source": [
        "# update values\n",
        "a = np.zeros((3,3))\n",
        "for i in range(3):\n",
        "    a[:,i] = i\n",
        "print('before\\n',a)\n",
        "\n",
        "a[1,:] += 10\n",
        "print('after\\n',a)"
      ],
      "execution_count": 11,
      "outputs": [
        {
          "output_type": "stream",
          "text": [
            "before\n",
            " [[0. 1. 2.]\n",
            " [0. 1. 2.]\n",
            " [0. 1. 2.]]\n",
            "after\n",
            " [[ 0.  1.  2.]\n",
            " [10. 11. 12.]\n",
            " [ 0.  1.  2.]]\n"
          ],
          "name": "stdout"
        }
      ]
    },
    {
      "cell_type": "markdown",
      "metadata": {
        "id": "GJInpIJHwUO9"
      },
      "source": [
        ""
      ]
    },
    {
      "cell_type": "markdown",
      "metadata": {
        "id": "liKnKEufwWSo"
      },
      "source": [
        "The array given below as we can see is derived of 3 rows as well as 3 columns, all printed within range of indexes 0-2 we can see this happening on \"for i in range(3):\" The second print out of the code as we can see is derived of the same 3 rows and columns however index(2) in this case where the number 5's were printed was due to as we can see \"a[:,2] = 5\""
      ]
    },
    {
      "cell_type": "code",
      "metadata": {
        "id": "EIGEcuM2i4f-",
        "colab": {
          "base_uri": "https://localhost:8080/"
        },
        "outputId": "67341ee7-06cf-4fd9-8ad3-c58429e5a99a"
      },
      "source": [
        "a = np.zeros((3,3))\n",
        "for i in range(3):\n",
        "    a[:,i] = i\n",
        "print('before\\n',a)\n",
        "\n",
        "a[:,2] = 5.\n",
        "print('after\\n',a)"
      ],
      "execution_count": null,
      "outputs": [
        {
          "output_type": "stream",
          "text": [
            "before\n",
            " [[0. 1. 2.]\n",
            " [0. 1. 2.]\n",
            " [0. 1. 2.]]\n",
            "after\n",
            " [[0. 1. 5.]\n",
            " [0. 1. 5.]\n",
            " [0. 1. 5.]]\n"
          ],
          "name": "stdout"
        }
      ]
    },
    {
      "cell_type": "markdown",
      "metadata": {
        "id": "jTzOvsV-utyy"
      },
      "source": [
        ""
      ]
    },
    {
      "cell_type": "markdown",
      "metadata": {
        "id": "hS--6RwAwdv5"
      },
      "source": [
        "In the given array below we see that based on the parameters implemented we have an array with int 1. The second print out which was \"int64\" was a product that we got by \".dtype\" which indicates how the bytes corresponds to the array which in this case is type \"int\""
      ]
    },
    {
      "cell_type": "code",
      "metadata": {
        "id": "MSiL6JTOi4f-",
        "colab": {
          "base_uri": "https://localhost:8080/"
        },
        "outputId": "4c5a98ed-18eb-41bb-838c-99caf08e2ef0"
      },
      "source": [
        "a=np.array(([1,1],[1,1]))\n",
        "print(a)\n",
        "print(a.dtype)"
      ],
      "execution_count": 12,
      "outputs": [
        {
          "output_type": "stream",
          "text": [
            "[[1 1]\n",
            " [1 1]]\n",
            "int64\n"
          ],
          "name": "stdout"
        }
      ]
    },
    {
      "cell_type": "markdown",
      "metadata": {
        "id": "SSsuZtSHwjWm"
      },
      "source": [
        "In the given array below we see that based on the parameters implemented we have an array with \"1.\" The second print out which was \"float64\" was a product that we got by \".dtype\" which indicates how the bytes corresponds to the array in this case being type \"float\""
      ]
    },
    {
      "cell_type": "code",
      "metadata": {
        "id": "E4vCyLgZi4f_",
        "colab": {
          "base_uri": "https://localhost:8080/"
        },
        "outputId": "5fddca15-57e3-4204-f902-d0f6c4d6d522"
      },
      "source": [
        "a=np.array(([1.,1],[1,1])) \n",
        "print(a)\n",
        "print(a.dtype)"
      ],
      "execution_count": null,
      "outputs": [
        {
          "output_type": "stream",
          "text": [
            "[[1. 1.]\n",
            " [1. 1.]]\n",
            "float64\n"
          ],
          "name": "stdout"
        }
      ]
    },
    {
      "cell_type": "markdown",
      "metadata": {
        "id": "4BFih9wwwqDJ"
      },
      "source": [
        "In the given array below we see that based on the parameters implemented we have an array with \"1\" type \"int\" which we compare if every int is >2 being that none are which is why we see the all print out as \"false\" the second print out which was \"bool\" was printed due to the \".dtype\" which indicates how the bytes corresponds to the array in this case being type \"bool\""
      ]
    },
    {
      "cell_type": "code",
      "metadata": {
        "id": "c6YEtnKIi4f_",
        "colab": {
          "base_uri": "https://localhost:8080/"
        },
        "outputId": "247020a3-eebe-4bee-d8c9-3d0735518ed4"
      },
      "source": [
        "a=np.array(([1.,1],[1,1]))>2  \n",
        "print(a)\n",
        "print(a.dtype)"
      ],
      "execution_count": null,
      "outputs": [
        {
          "output_type": "stream",
          "text": [
            "[[False False]\n",
            " [False False]]\n",
            "bool\n"
          ],
          "name": "stdout"
        }
      ]
    },
    {
      "cell_type": "markdown",
      "metadata": {
        "id": "ODj0JxiMwuya"
      },
      "source": [
        "The given code  below represents an array thats' data type is being defined in this case shown by \"print(a.dtype)\" because of this we get \"<U1\" which signifies the bit length of the given elements in this case '1', along with this we also get the byte order"
      ]
    },
    {
      "cell_type": "code",
      "metadata": {
        "id": "7xhD8tSDi4f_",
        "colab": {
          "base_uri": "https://localhost:8080/"
        },
        "outputId": "4ce0220e-33b2-48f3-ff05-b36e692b0cc5"
      },
      "source": [
        "a=np.array((['1','1'],['1','1']))\n",
        "print(a)\n",
        "print(a.dtype)"
      ],
      "execution_count": null,
      "outputs": [
        {
          "output_type": "stream",
          "text": [
            "[['1' '1']\n",
            " ['1' '1']]\n",
            "<U1\n"
          ],
          "name": "stdout"
        }
      ]
    },
    {
      "cell_type": "markdown",
      "metadata": {
        "id": "hPy1YO11w165"
      },
      "source": [
        "This final array below is being represented as a float due to the \"dtype=float\" that is being implemented after the array. Because of this we get the data type once the code has been ran as a \"float64\""
      ]
    },
    {
      "cell_type": "code",
      "metadata": {
        "id": "IhYH31Owi4f_",
        "colab": {
          "base_uri": "https://localhost:8080/"
        },
        "outputId": "adbe26be-4ab3-442b-9ce4-1abc5f6efb64"
      },
      "source": [
        "a=np.array((['1','1'],['1','1']),dtype=float) \n",
        "print(a)\n",
        "print(a.dtype)"
      ],
      "execution_count": null,
      "outputs": [
        {
          "output_type": "stream",
          "text": [
            "[[1. 1.]\n",
            " [1. 1.]]\n",
            "float64\n"
          ],
          "name": "stdout"
        }
      ]
    }
  ]
}